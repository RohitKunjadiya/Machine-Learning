{
 "cells": [
  {
   "cell_type": "code",
   "execution_count": 1,
   "id": "50e272ab",
   "metadata": {},
   "outputs": [],
   "source": [
    "import numpy as np\n",
    "import pandas as pd\n",
    "from matplotlib import pyplot as plt\n",
    "import seaborn as sns"
   ]
  },
  {
   "cell_type": "code",
   "execution_count": 2,
   "id": "e5e90e38",
   "metadata": {},
   "outputs": [],
   "source": [
    "df = pd.read_csv('smartphone_cleaned_v1.csv')"
   ]
  },
  {
   "cell_type": "code",
   "execution_count": 3,
   "id": "e89a2d03",
   "metadata": {},
   "outputs": [
    {
     "data": {
      "text/plain": [
       "(980, 24)"
      ]
     },
     "execution_count": 3,
     "metadata": {},
     "output_type": "execute_result"
    }
   ],
   "source": [
    "df.shape"
   ]
  },
  {
   "cell_type": "code",
   "execution_count": 4,
   "id": "7f568b35",
   "metadata": {},
   "outputs": [
    {
     "data": {
      "text/html": [
       "<div>\n",
       "<style scoped>\n",
       "    .dataframe tbody tr th:only-of-type {\n",
       "        vertical-align: middle;\n",
       "    }\n",
       "\n",
       "    .dataframe tbody tr th {\n",
       "        vertical-align: top;\n",
       "    }\n",
       "\n",
       "    .dataframe thead th {\n",
       "        text-align: right;\n",
       "    }\n",
       "</style>\n",
       "<table border=\"1\" class=\"dataframe\">\n",
       "  <thead>\n",
       "    <tr style=\"text-align: right;\">\n",
       "      <th></th>\n",
       "      <th>brand</th>\n",
       "      <th>model</th>\n",
       "      <th>price</th>\n",
       "      <th>rating</th>\n",
       "      <th>5g</th>\n",
       "      <th>nfc</th>\n",
       "      <th>ir_blaster</th>\n",
       "      <th>processor_name</th>\n",
       "      <th>processor_brand</th>\n",
       "      <th>num_cores</th>\n",
       "      <th>...</th>\n",
       "      <th>fast_charging</th>\n",
       "      <th>screen_size</th>\n",
       "      <th>refresh_rate</th>\n",
       "      <th>resolution</th>\n",
       "      <th>num_rear_cameras</th>\n",
       "      <th>num_front_cameras</th>\n",
       "      <th>os</th>\n",
       "      <th>primary_camera_rear</th>\n",
       "      <th>primary_camera_front</th>\n",
       "      <th>extended_memory</th>\n",
       "    </tr>\n",
       "  </thead>\n",
       "  <tbody>\n",
       "    <tr>\n",
       "      <th>0</th>\n",
       "      <td>oneplus</td>\n",
       "      <td>OnePlus 11 5G</td>\n",
       "      <td>54999</td>\n",
       "      <td>89.0</td>\n",
       "      <td>True</td>\n",
       "      <td>True</td>\n",
       "      <td>False</td>\n",
       "      <td>Snapdragon 8 Gen2</td>\n",
       "      <td>snapdragon</td>\n",
       "      <td>Octa Core</td>\n",
       "      <td>...</td>\n",
       "      <td>100</td>\n",
       "      <td>6.70</td>\n",
       "      <td>120</td>\n",
       "      <td>1440 x 3216</td>\n",
       "      <td>3</td>\n",
       "      <td>1</td>\n",
       "      <td>android</td>\n",
       "      <td>50.0</td>\n",
       "      <td>16</td>\n",
       "      <td>0</td>\n",
       "    </tr>\n",
       "    <tr>\n",
       "      <th>1</th>\n",
       "      <td>oneplus</td>\n",
       "      <td>OnePlus Nord CE 2 Lite 5G</td>\n",
       "      <td>19989</td>\n",
       "      <td>81.0</td>\n",
       "      <td>True</td>\n",
       "      <td>False</td>\n",
       "      <td>False</td>\n",
       "      <td>Snapdragon 695</td>\n",
       "      <td>snapdragon</td>\n",
       "      <td>Octa Core</td>\n",
       "      <td>...</td>\n",
       "      <td>33</td>\n",
       "      <td>6.59</td>\n",
       "      <td>120</td>\n",
       "      <td>1080 x 2412</td>\n",
       "      <td>3</td>\n",
       "      <td>1</td>\n",
       "      <td>android</td>\n",
       "      <td>64.0</td>\n",
       "      <td>16</td>\n",
       "      <td>1 TB</td>\n",
       "    </tr>\n",
       "    <tr>\n",
       "      <th>2</th>\n",
       "      <td>samsung</td>\n",
       "      <td>Samsung Galaxy A14 5G</td>\n",
       "      <td>16499</td>\n",
       "      <td>75.0</td>\n",
       "      <td>True</td>\n",
       "      <td>False</td>\n",
       "      <td>False</td>\n",
       "      <td>Exynos 1330</td>\n",
       "      <td>exynos</td>\n",
       "      <td>Octa Core</td>\n",
       "      <td>...</td>\n",
       "      <td>15</td>\n",
       "      <td>6.60</td>\n",
       "      <td>90</td>\n",
       "      <td>1080 x 2408</td>\n",
       "      <td>3</td>\n",
       "      <td>1</td>\n",
       "      <td>android</td>\n",
       "      <td>50.0</td>\n",
       "      <td>13</td>\n",
       "      <td>1 TB</td>\n",
       "    </tr>\n",
       "    <tr>\n",
       "      <th>3</th>\n",
       "      <td>motorola</td>\n",
       "      <td>Motorola Moto G62 5G</td>\n",
       "      <td>14999</td>\n",
       "      <td>81.0</td>\n",
       "      <td>True</td>\n",
       "      <td>False</td>\n",
       "      <td>False</td>\n",
       "      <td>Snapdragon  695</td>\n",
       "      <td>snapdragon</td>\n",
       "      <td>Octa Core</td>\n",
       "      <td>...</td>\n",
       "      <td>0</td>\n",
       "      <td>6.55</td>\n",
       "      <td>120</td>\n",
       "      <td>1080 x 2400</td>\n",
       "      <td>3</td>\n",
       "      <td>1</td>\n",
       "      <td>android</td>\n",
       "      <td>50.0</td>\n",
       "      <td>16</td>\n",
       "      <td>1 TB</td>\n",
       "    </tr>\n",
       "    <tr>\n",
       "      <th>4</th>\n",
       "      <td>realme</td>\n",
       "      <td>Realme 10 Pro Plus</td>\n",
       "      <td>24999</td>\n",
       "      <td>82.0</td>\n",
       "      <td>True</td>\n",
       "      <td>False</td>\n",
       "      <td>False</td>\n",
       "      <td>Dimensity 1080</td>\n",
       "      <td>dimensity</td>\n",
       "      <td>Octa Core</td>\n",
       "      <td>...</td>\n",
       "      <td>67</td>\n",
       "      <td>6.70</td>\n",
       "      <td>120</td>\n",
       "      <td>1080 x 2412</td>\n",
       "      <td>3</td>\n",
       "      <td>1</td>\n",
       "      <td>android</td>\n",
       "      <td>108.0</td>\n",
       "      <td>16</td>\n",
       "      <td>0</td>\n",
       "    </tr>\n",
       "  </tbody>\n",
       "</table>\n",
       "<p>5 rows × 24 columns</p>\n",
       "</div>"
      ],
      "text/plain": [
       "      brand                      model  price  rating    5g    nfc  \\\n",
       "0   oneplus              OnePlus 11 5G  54999    89.0  True   True   \n",
       "1   oneplus  OnePlus Nord CE 2 Lite 5G  19989    81.0  True  False   \n",
       "2   samsung      Samsung Galaxy A14 5G  16499    75.0  True  False   \n",
       "3  motorola       Motorola Moto G62 5G  14999    81.0  True  False   \n",
       "4    realme         Realme 10 Pro Plus  24999    82.0  True  False   \n",
       "\n",
       "   ir_blaster     processor_name processor_brand  num_cores  ...  \\\n",
       "0       False  Snapdragon 8 Gen2      snapdragon  Octa Core  ...   \n",
       "1       False     Snapdragon 695      snapdragon  Octa Core  ...   \n",
       "2       False        Exynos 1330          exynos  Octa Core  ...   \n",
       "3       False    Snapdragon  695      snapdragon  Octa Core  ...   \n",
       "4       False     Dimensity 1080       dimensity  Octa Core  ...   \n",
       "\n",
       "   fast_charging  screen_size  refresh_rate    resolution  num_rear_cameras  \\\n",
       "0            100         6.70           120  1440 x 3216                  3   \n",
       "1             33         6.59           120  1080 x 2412                  3   \n",
       "2             15         6.60            90  1080 x 2408                  3   \n",
       "3              0         6.55           120  1080 x 2400                  3   \n",
       "4             67         6.70           120  1080 x 2412                  3   \n",
       "\n",
       "   num_front_cameras       os primary_camera_rear  primary_camera_front  \\\n",
       "0                  1  android                50.0                    16   \n",
       "1                  1  android                64.0                    16   \n",
       "2                  1  android                50.0                    13   \n",
       "3                  1  android                50.0                    16   \n",
       "4                  1  android               108.0                    16   \n",
       "\n",
       "  extended_memory  \n",
       "0               0  \n",
       "1            1 TB  \n",
       "2            1 TB  \n",
       "3            1 TB  \n",
       "4               0  \n",
       "\n",
       "[5 rows x 24 columns]"
      ]
     },
     "execution_count": 4,
     "metadata": {},
     "output_type": "execute_result"
    }
   ],
   "source": [
    "df.head()"
   ]
  },
  {
   "cell_type": "code",
   "execution_count": 74,
   "id": "9b64394c",
   "metadata": {},
   "outputs": [
    {
     "data": {
      "text/plain": [
       "16.0    307\n",
       "8.0     178\n",
       "32.0    155\n",
       "5.0     119\n",
       "12.0     50\n",
       "13.0     41\n",
       "20.0     37\n",
       "10.0     24\n",
       "50.0     12\n",
       "60.0     10\n",
       "44.0      8\n",
       "40.0      6\n",
       "2.0       5\n",
       "7.0       5\n",
       "24.0      3\n",
       "25.0      3\n",
       "10.8      3\n",
       "48.0      2\n",
       "11.1      2\n",
       "0.3       1\n",
       "2.1       1\n",
       "10.7      1\n",
       "10.1      1\n",
       "12.6      1\n",
       "Name: primary_camera_front, dtype: int64"
      ]
     },
     "execution_count": 74,
     "metadata": {},
     "output_type": "execute_result"
    }
   ],
   "source": [
    "df['primary_camera_front'].value_counts()"
   ]
  },
  {
   "cell_type": "code",
   "execution_count": 5,
   "id": "1c659c4e",
   "metadata": {},
   "outputs": [
    {
     "data": {
      "text/plain": [
       "True     549\n",
       "False    431\n",
       "Name: 5g, dtype: int64"
      ]
     },
     "execution_count": 5,
     "metadata": {},
     "output_type": "execute_result"
    }
   ],
   "source": [
    "df['5g'].value_counts()"
   ]
  },
  {
   "cell_type": "code",
   "execution_count": 6,
   "id": "7c73414d",
   "metadata": {},
   "outputs": [
    {
     "name": "stdout",
     "output_type": "stream",
     "text": [
      "<class 'pandas.core.frame.DataFrame'>\n",
      "RangeIndex: 980 entries, 0 to 979\n",
      "Data columns (total 24 columns):\n",
      " #   Column                Non-Null Count  Dtype  \n",
      "---  ------                --------------  -----  \n",
      " 0   brand                 980 non-null    object \n",
      " 1   model                 980 non-null    object \n",
      " 2   price                 980 non-null    int64  \n",
      " 3   rating                879 non-null    float64\n",
      " 4   5g                    980 non-null    bool   \n",
      " 5   nfc                   980 non-null    bool   \n",
      " 6   ir_blaster            980 non-null    bool   \n",
      " 7   processor_name        960 non-null    object \n",
      " 8   processor_brand       960 non-null    object \n",
      " 9   num_cores             974 non-null    object \n",
      " 10  processor_speed       938 non-null    float64\n",
      " 11  ram_capacity          980 non-null    int64  \n",
      " 12  internal_memory       978 non-null    float64\n",
      " 13  battery_capacity      969 non-null    float64\n",
      " 14  fast_charging         980 non-null    int64  \n",
      " 15  screen_size           980 non-null    float64\n",
      " 16  refresh_rate          980 non-null    int64  \n",
      " 17  resolution            980 non-null    object \n",
      " 18  num_rear_cameras      980 non-null    int64  \n",
      " 19  num_front_cameras     980 non-null    object \n",
      " 20  os                    980 non-null    object \n",
      " 21  primary_camera_rear   980 non-null    float64\n",
      " 22  primary_camera_front  976 non-null    object \n",
      " 23  extended_memory       980 non-null    object \n",
      "dtypes: bool(3), float64(6), int64(5), object(10)\n",
      "memory usage: 163.8+ KB\n"
     ]
    }
   ],
   "source": [
    "df.info()"
   ]
  },
  {
   "cell_type": "code",
   "execution_count": 7,
   "id": "d2acae22",
   "metadata": {},
   "outputs": [
    {
     "data": {
      "text/plain": [
       "brand                     0\n",
       "model                     0\n",
       "price                     0\n",
       "rating                  101\n",
       "5g                        0\n",
       "nfc                       0\n",
       "ir_blaster                0\n",
       "processor_name           20\n",
       "processor_brand          20\n",
       "num_cores                 6\n",
       "processor_speed          42\n",
       "ram_capacity              0\n",
       "internal_memory           2\n",
       "battery_capacity         11\n",
       "fast_charging             0\n",
       "screen_size               0\n",
       "refresh_rate              0\n",
       "resolution                0\n",
       "num_rear_cameras          0\n",
       "num_front_cameras         0\n",
       "os                        0\n",
       "primary_camera_rear       0\n",
       "primary_camera_front      4\n",
       "extended_memory           0\n",
       "dtype: int64"
      ]
     },
     "execution_count": 7,
     "metadata": {},
     "output_type": "execute_result"
    }
   ],
   "source": [
    "df.isnull().sum()"
   ]
  },
  {
   "cell_type": "code",
   "execution_count": 8,
   "id": "8e71abb3",
   "metadata": {},
   "outputs": [
    {
     "data": {
      "text/plain": [
       "xiaomi       134\n",
       "samsung      132\n",
       "vivo         111\n",
       "realme        97\n",
       "oppo          88\n",
       "motorola      52\n",
       "apple         46\n",
       "oneplus       42\n",
       "poco          41\n",
       "tecno         33\n",
       "iqoo          32\n",
       "infinix       29\n",
       "huawei        16\n",
       "google        14\n",
       "nokia         13\n",
       "honor         13\n",
       "itel          10\n",
       "sony           9\n",
       "asus           7\n",
       "nubia          6\n",
       "nothing        5\n",
       "lava           4\n",
       "jio            4\n",
       "gionee         3\n",
       "micromax       3\n",
       "oukitel        3\n",
       "lg             3\n",
       "redmi          3\n",
       "letv           3\n",
       "ikall          3\n",
       "royole         2\n",
       "doogee         2\n",
       "zte            2\n",
       "lenovo         2\n",
       "lyf            2\n",
       "sharp          1\n",
       "tcl            1\n",
       "cat            1\n",
       "leitz          1\n",
       "duoqin         1\n",
       "leeco          1\n",
       "blu            1\n",
       "vertu          1\n",
       "tesla          1\n",
       "cola           1\n",
       "blackview      1\n",
       "Name: brand, dtype: int64"
      ]
     },
     "execution_count": 8,
     "metadata": {},
     "output_type": "execute_result"
    }
   ],
   "source": [
    "# brand name\n",
    "df['brand'].value_counts()"
   ]
  },
  {
   "cell_type": "code",
   "execution_count": 9,
   "id": "f3dd3655",
   "metadata": {},
   "outputs": [
    {
     "data": {
      "text/plain": [
       "<Axes: >"
      ]
     },
     "execution_count": 9,
     "metadata": {},
     "output_type": "execute_result"
    },
    {
     "data": {
      "image/png": "[encoded data removed]",
      "text/plain": [
       "<Figure size 640x480 with 1 Axes>"
      ]
     },
     "metadata": {},
     "output_type": "display_data"
    }
   ],
   "source": [
    "df['brand'].value_counts().head(10).plot(kind='bar')"
   ]
  },
  {
   "cell_type": "code",
   "execution_count": 10,
   "id": "00a8b52d",
   "metadata": {},
   "outputs": [
    {
     "data": {
      "text/plain": [
       "count       980.000000\n",
       "mean      32520.504082\n",
       "std       39531.812669\n",
       "min        3499.000000\n",
       "25%       12999.000000\n",
       "50%       19994.500000\n",
       "75%       35491.500000\n",
       "max      650000.000000\n",
       "Name: price, dtype: float64"
      ]
     },
     "execution_count": 10,
     "metadata": {},
     "output_type": "execute_result"
    }
   ],
   "source": [
    "df['price'].describe()"
   ]
  },
  {
   "cell_type": "code",
   "execution_count": 11,
   "id": "0c17d33e",
   "metadata": {},
   "outputs": [
    {
     "data": {
      "text/plain": [
       "6.591790999665567"
      ]
     },
     "execution_count": 11,
     "metadata": {},
     "output_type": "execute_result"
    }
   ],
   "source": [
    "df['price'].skew()"
   ]
  },
  {
   "cell_type": "code",
   "execution_count": 12,
   "id": "4d8f8df7",
   "metadata": {},
   "outputs": [
    {
     "data": {
      "text/plain": [
       "<Axes: xlabel='price', ylabel='Count'>"
      ]
     },
     "execution_count": 12,
     "metadata": {},
     "output_type": "execute_result"
    },
    {
     "data": {
      "image/png": "[encoded data removed]",
      "text/plain": [
       "<Figure size 640x480 with 1 Axes>"
      ]
     },
     "metadata": {},
     "output_type": "display_data"
    }
   ],
   "source": [
    "sns.histplot(df['price'],kde=True)"
   ]
  },
  {
   "cell_type": "code",
   "execution_count": 13,
   "id": "fd8351b5",
   "metadata": {},
   "outputs": [
    {
     "data": {
      "text/plain": [
       "<Axes: >"
      ]
     },
     "execution_count": 13,
     "metadata": {},
     "output_type": "execute_result"
    },
    {
     "data": {
      "image/png": "[encoded data removed]",
      "text/plain": [
       "<Figure size 640x480 with 1 Axes>"
      ]
     },
     "metadata": {},
     "output_type": "display_data"
    }
   ],
   "source": [
    "sns.boxplot(df[df['price']<200000]['price'])"
   ]
  },
  {
   "cell_type": "code",
   "execution_count": 14,
   "id": "17d7adab",
   "metadata": {},
   "outputs": [
    {
     "data": {
      "text/html": [
       "<div>\n",
       "<style scoped>\n",
       "    .dataframe tbody tr th:only-of-type {\n",
       "        vertical-align: middle;\n",
       "    }\n",
       "\n",
       "    .dataframe tbody tr th {\n",
       "        vertical-align: top;\n",
       "    }\n",
       "\n",
       "    .dataframe thead th {\n",
       "        text-align: right;\n",
       "    }\n",
       "</style>\n",
       "<table border=\"1\" class=\"dataframe\">\n",
       "  <thead>\n",
       "    <tr style=\"text-align: right;\">\n",
       "      <th></th>\n",
       "      <th>brand</th>\n",
       "      <th>model</th>\n",
       "      <th>price</th>\n",
       "      <th>rating</th>\n",
       "      <th>5g</th>\n",
       "      <th>nfc</th>\n",
       "      <th>ir_blaster</th>\n",
       "      <th>processor_name</th>\n",
       "      <th>processor_brand</th>\n",
       "      <th>num_cores</th>\n",
       "      <th>...</th>\n",
       "      <th>fast_charging</th>\n",
       "      <th>screen_size</th>\n",
       "      <th>refresh_rate</th>\n",
       "      <th>resolution</th>\n",
       "      <th>num_rear_cameras</th>\n",
       "      <th>num_front_cameras</th>\n",
       "      <th>os</th>\n",
       "      <th>primary_camera_rear</th>\n",
       "      <th>primary_camera_front</th>\n",
       "      <th>extended_memory</th>\n",
       "    </tr>\n",
       "  </thead>\n",
       "  <tbody>\n",
       "    <tr>\n",
       "      <th>427</th>\n",
       "      <td>vertu</td>\n",
       "      <td>Vertu Signature Touch</td>\n",
       "      <td>650000</td>\n",
       "      <td>62.0</td>\n",
       "      <td>False</td>\n",
       "      <td>True</td>\n",
       "      <td>False</td>\n",
       "      <td>Snapdragon 801</td>\n",
       "      <td>snapdragon</td>\n",
       "      <td>Octa Core</td>\n",
       "      <td>...</td>\n",
       "      <td>-1</td>\n",
       "      <td>4.70</td>\n",
       "      <td>60</td>\n",
       "      <td>1080 x 1920</td>\n",
       "      <td>1</td>\n",
       "      <td>1</td>\n",
       "      <td>android</td>\n",
       "      <td>13.0</td>\n",
       "      <td>2.1</td>\n",
       "      <td>0</td>\n",
       "    </tr>\n",
       "    <tr>\n",
       "      <th>478</th>\n",
       "      <td>huawei</td>\n",
       "      <td>Huawei Mate 50 RS Porsche Design</td>\n",
       "      <td>239999</td>\n",
       "      <td>81.0</td>\n",
       "      <td>False</td>\n",
       "      <td>True</td>\n",
       "      <td>True</td>\n",
       "      <td>Snapdragon 8+ Gen1</td>\n",
       "      <td>snapdragon</td>\n",
       "      <td>Octa Core</td>\n",
       "      <td>...</td>\n",
       "      <td>66</td>\n",
       "      <td>6.74</td>\n",
       "      <td>120</td>\n",
       "      <td>1212 x 2616</td>\n",
       "      <td>3</td>\n",
       "      <td>1</td>\n",
       "      <td>other</td>\n",
       "      <td>50.0</td>\n",
       "      <td>13</td>\n",
       "      <td>256 GB</td>\n",
       "    </tr>\n",
       "    <tr>\n",
       "      <th>887</th>\n",
       "      <td>xiaomi</td>\n",
       "      <td>Xiaomi Redmi K20 Pro Signature Edition</td>\n",
       "      <td>480000</td>\n",
       "      <td>88.0</td>\n",
       "      <td>False</td>\n",
       "      <td>True</td>\n",
       "      <td>False</td>\n",
       "      <td>Snapdragon  855</td>\n",
       "      <td>snapdragon</td>\n",
       "      <td>Octa Core</td>\n",
       "      <td>...</td>\n",
       "      <td>27</td>\n",
       "      <td>6.39</td>\n",
       "      <td>60</td>\n",
       "      <td>1080 x 2340</td>\n",
       "      <td>3</td>\n",
       "      <td>1</td>\n",
       "      <td>android</td>\n",
       "      <td>48.0</td>\n",
       "      <td>20</td>\n",
       "      <td>0</td>\n",
       "    </tr>\n",
       "    <tr>\n",
       "      <th>951</th>\n",
       "      <td>huawei</td>\n",
       "      <td>Huawei Mate 30 RS Porsche Design</td>\n",
       "      <td>214990</td>\n",
       "      <td>NaN</td>\n",
       "      <td>True</td>\n",
       "      <td>True</td>\n",
       "      <td>True</td>\n",
       "      <td>Kirin  990</td>\n",
       "      <td>kirin</td>\n",
       "      <td>Octa Core</td>\n",
       "      <td>...</td>\n",
       "      <td>0</td>\n",
       "      <td>6.53</td>\n",
       "      <td>60</td>\n",
       "      <td>1176 x 2400</td>\n",
       "      <td>4</td>\n",
       "      <td>2</td>\n",
       "      <td>android</td>\n",
       "      <td>40.0</td>\n",
       "      <td>32</td>\n",
       "      <td>256 GB</td>\n",
       "    </tr>\n",
       "  </tbody>\n",
       "</table>\n",
       "<p>4 rows × 24 columns</p>\n",
       "</div>"
      ],
      "text/plain": [
       "      brand                                   model   price  rating     5g  \\\n",
       "427   vertu                   Vertu Signature Touch  650000    62.0  False   \n",
       "478  huawei        Huawei Mate 50 RS Porsche Design  239999    81.0  False   \n",
       "887  xiaomi  Xiaomi Redmi K20 Pro Signature Edition  480000    88.0  False   \n",
       "951  huawei        Huawei Mate 30 RS Porsche Design  214990     NaN   True   \n",
       "\n",
       "      nfc  ir_blaster      processor_name processor_brand  num_cores  ...  \\\n",
       "427  True       False      Snapdragon 801      snapdragon  Octa Core  ...   \n",
       "478  True        True  Snapdragon 8+ Gen1      snapdragon  Octa Core  ...   \n",
       "887  True       False     Snapdragon  855      snapdragon  Octa Core  ...   \n",
       "951  True        True          Kirin  990           kirin  Octa Core  ...   \n",
       "\n",
       "     fast_charging  screen_size  refresh_rate    resolution  num_rear_cameras  \\\n",
       "427             -1         4.70            60  1080 x 1920                  1   \n",
       "478             66         6.74           120  1212 x 2616                  3   \n",
       "887             27         6.39            60  1080 x 2340                  3   \n",
       "951              0         6.53            60  1176 x 2400                  4   \n",
       "\n",
       "     num_front_cameras       os primary_camera_rear  primary_camera_front  \\\n",
       "427                  1  android                13.0                   2.1   \n",
       "478                  1    other                50.0                    13   \n",
       "887                  1  android                48.0                    20   \n",
       "951                  2  android                40.0                    32   \n",
       "\n",
       "    extended_memory  \n",
       "427               0  \n",
       "478          256 GB  \n",
       "887               0  \n",
       "951          256 GB  \n",
       "\n",
       "[4 rows x 24 columns]"
      ]
     },
     "execution_count": 14,
     "metadata": {},
     "output_type": "execute_result"
    }
   ],
   "source": [
    "df[df['price']>200000]"
   ]
  },
  {
   "cell_type": "code",
   "execution_count": 15,
   "id": "de4c2fec",
   "metadata": {},
   "outputs": [
    {
     "data": {
      "text/plain": [
       "count    879.000000\n",
       "mean      78.258248\n",
       "std        7.402854\n",
       "min       60.000000\n",
       "25%       74.000000\n",
       "50%       80.000000\n",
       "75%       84.000000\n",
       "max       89.000000\n",
       "Name: rating, dtype: float64"
      ]
     },
     "execution_count": 15,
     "metadata": {},
     "output_type": "execute_result"
    }
   ],
   "source": [
    "df['rating'].describe()"
   ]
  },
  {
   "cell_type": "code",
   "execution_count": 16,
   "id": "c40b9523",
   "metadata": {},
   "outputs": [
    {
     "data": {
      "text/plain": [
       "<Axes: xlabel='rating', ylabel='Count'>"
      ]
     },
     "execution_count": 16,
     "metadata": {},
     "output_type": "execute_result"
    },
    {
     "data": {
      "image/png": "[encoded data removed]",
      "text/plain": [
       "<Figure size 640x480 with 1 Axes>"
      ]
     },
     "metadata": {},
     "output_type": "display_data"
    }
   ],
   "source": [
    "sns.histplot(df['rating'],kde=True)"
   ]
  },
  {
   "cell_type": "code",
   "execution_count": 17,
   "id": "b85a3b94",
   "metadata": {},
   "outputs": [
    {
     "data": {
      "text/plain": [
       "-0.6989993034105535"
      ]
     },
     "execution_count": 17,
     "metadata": {},
     "output_type": "execute_result"
    }
   ],
   "source": [
    "df['rating'].skew()"
   ]
  },
  {
   "cell_type": "code",
   "execution_count": 18,
   "id": "fe19b870",
   "metadata": {},
   "outputs": [
    {
     "data": {
      "text/plain": [
       "<Axes: >"
      ]
     },
     "execution_count": 18,
     "metadata": {},
     "output_type": "execute_result"
    },
    {
     "data": {
      "image/png": "[encoded data removed]",
      "text/plain": [
       "<Figure size 640x480 with 1 Axes>"
      ]
     },
     "metadata": {},
     "output_type": "display_data"
    }
   ],
   "source": [
    "sns.boxplot(df['rating'])"
   ]
  },
  {
   "cell_type": "code",
   "execution_count": 19,
   "id": "2e824172",
   "metadata": {},
   "outputs": [
    {
     "data": {
      "text/plain": [
       "101"
      ]
     },
     "execution_count": 19,
     "metadata": {},
     "output_type": "execute_result"
    }
   ],
   "source": [
    "df['rating'].isnull().sum()"
   ]
  },
  {
   "cell_type": "code",
   "execution_count": 20,
   "id": "130184a3",
   "metadata": {},
   "outputs": [
    {
     "data": {
      "text/plain": [
       "True     549\n",
       "False    431\n",
       "Name: 5g, dtype: int64"
      ]
     },
     "execution_count": 20,
     "metadata": {},
     "output_type": "execute_result"
    }
   ],
   "source": [
    "df['5g'].value_counts()"
   ]
  },
  {
   "cell_type": "code",
   "execution_count": 21,
   "id": "0a7244d0",
   "metadata": {},
   "outputs": [
    {
     "data": {
      "text/plain": [
       "<Axes: >"
      ]
     },
     "execution_count": 21,
     "metadata": {},
     "output_type": "execute_result"
    },
    {
     "data": {
      "image/png": "[encoded data removed]",
      "text/plain": [
       "<Figure size 640x480 with 1 Axes>"
      ]
     },
     "metadata": {},
     "output_type": "display_data"
    }
   ],
   "source": [
    "df['5g'].value_counts().plot(kind='bar')"
   ]
  },
  {
   "cell_type": "code",
   "execution_count": 22,
   "id": "1b6baadf",
   "metadata": {},
   "outputs": [
    {
     "data": {
      "text/plain": [
       "False    587\n",
       "True     393\n",
       "Name: nfc, dtype: int64"
      ]
     },
     "execution_count": 22,
     "metadata": {},
     "output_type": "execute_result"
    }
   ],
   "source": [
    "df['nfc'].value_counts()"
   ]
  },
  {
   "cell_type": "code",
   "execution_count": 23,
   "id": "5317529e",
   "metadata": {},
   "outputs": [
    {
     "data": {
      "text/plain": [
       "<Axes: >"
      ]
     },
     "execution_count": 23,
     "metadata": {},
     "output_type": "execute_result"
    },
    {
     "data": {
      "image/png": "[encoded data removed]",
      "text/plain": [
       "<Figure size 640x480 with 1 Axes>"
      ]
     },
     "metadata": {},
     "output_type": "display_data"
    }
   ],
   "source": [
    "df['nfc'].value_counts().plot(kind='bar')"
   ]
  },
  {
   "cell_type": "code",
   "execution_count": 24,
   "id": "978bb4d7",
   "metadata": {},
   "outputs": [
    {
     "data": {
      "text/plain": [
       "False    821\n",
       "True     159\n",
       "Name: ir_blaster, dtype: int64"
      ]
     },
     "execution_count": 24,
     "metadata": {},
     "output_type": "execute_result"
    }
   ],
   "source": [
    "df['ir_blaster'].value_counts()"
   ]
  },
  {
   "cell_type": "code",
   "execution_count": 25,
   "id": "13980872",
   "metadata": {},
   "outputs": [
    {
     "data": {
      "text/plain": [
       "<Axes: >"
      ]
     },
     "execution_count": 25,
     "metadata": {},
     "output_type": "execute_result"
    },
    {
     "data": {
      "image/png": "[encoded data removed]",
      "text/plain": [
       "<Figure size 640x480 with 1 Axes>"
      ]
     },
     "metadata": {},
     "output_type": "display_data"
    }
   ],
   "source": [
    "df['ir_blaster'].value_counts().plot(kind='bar')"
   ]
  },
  {
   "cell_type": "code",
   "execution_count": 26,
   "id": "1bf76a37",
   "metadata": {},
   "outputs": [],
   "source": [
    "df['processor_brand'] = df['processor_brand'].str.replace('sanpdragon','snapdragon')\n",
    "df['processor_brand'] = df['processor_brand'].str.replace('apple','bionic')\n",
    "df['processor_brand'] = df['processor_brand'].str.replace('samsung','exynos')"
   ]
  },
  {
   "cell_type": "code",
   "execution_count": 27,
   "id": "35e3011f",
   "metadata": {},
   "outputs": [],
   "source": [
    "temp_df = df[df['processor_brand'] == 'qualcomm']\n",
    "df.loc[temp_df.index, 'processor_brand'] = 'snapdragon'"
   ]
  },
  {
   "cell_type": "code",
   "execution_count": 28,
   "id": "90272c47",
   "metadata": {},
   "outputs": [],
   "source": [
    "temp_df = df[df['processor_brand'] == 'a13']\n",
    "df.loc[temp_df.index, 'processor_brand'] = 'bionic'"
   ]
  },
  {
   "cell_type": "code",
   "execution_count": 29,
   "id": "acc62aa6",
   "metadata": {},
   "outputs": [
    {
     "data": {
      "text/plain": [
       "snapdragon    413\n",
       "helio         201\n",
       "dimensity     177\n",
       "exynos         50\n",
       "bionic         45\n",
       "unisoc         26\n",
       "tiger          24\n",
       "google          9\n",
       "kirin           7\n",
       "spreadtrum      4\n",
       "sc9863a         2\n",
       "fusion          1\n",
       "mediatek        1\n",
       "Name: processor_brand, dtype: int64"
      ]
     },
     "execution_count": 29,
     "metadata": {},
     "output_type": "execute_result"
    }
   ],
   "source": [
    "df['processor_brand'].value_counts()"
   ]
  },
  {
   "cell_type": "code",
   "execution_count": 30,
   "id": "ff6e27ac",
   "metadata": {},
   "outputs": [
    {
     "data": {
      "text/plain": [
       "20"
      ]
     },
     "execution_count": 30,
     "metadata": {},
     "output_type": "execute_result"
    }
   ],
   "source": [
    "df['processor_brand'].isnull().sum()"
   ]
  },
  {
   "cell_type": "code",
   "execution_count": 31,
   "id": "9004b785",
   "metadata": {},
   "outputs": [
    {
     "data": {
      "text/plain": [
       "Octa Core    899\n",
       "Hexa Core     39\n",
       "Quad Core     36\n",
       "Name: num_cores, dtype: int64"
      ]
     },
     "execution_count": 31,
     "metadata": {},
     "output_type": "execute_result"
    }
   ],
   "source": [
    "df['num_cores'].value_counts()"
   ]
  },
  {
   "cell_type": "code",
   "execution_count": 32,
   "id": "8965eea5",
   "metadata": {},
   "outputs": [
    {
     "data": {
      "text/plain": [
       "count    938.000000\n",
       "mean       2.427217\n",
       "std        0.464090\n",
       "min        1.200000\n",
       "25%        2.050000\n",
       "50%        2.300000\n",
       "75%        2.840000\n",
       "max        3.220000\n",
       "Name: processor_speed, dtype: float64"
      ]
     },
     "execution_count": 32,
     "metadata": {},
     "output_type": "execute_result"
    }
   ],
   "source": [
    "df['processor_speed'].describe()"
   ]
  },
  {
   "cell_type": "code",
   "execution_count": 33,
   "id": "ea95163d",
   "metadata": {},
   "outputs": [
    {
     "data": {
      "text/plain": [
       "<seaborn.axisgrid.FacetGrid at 0x1d8b6195350>"
      ]
     },
     "execution_count": 33,
     "metadata": {},
     "output_type": "execute_result"
    },
    {
     "data": {
      "image/png": "[encoded data removed]",
      "text/plain": [
       "<Figure size 500x500 with 1 Axes>"
      ]
     },
     "metadata": {},
     "output_type": "display_data"
    }
   ],
   "source": [
    "sns.displot(kind='kde',data=df,x='processor_speed')"
   ]
  },
  {
   "cell_type": "code",
   "execution_count": 34,
   "id": "b794857a",
   "metadata": {},
   "outputs": [
    {
     "data": {
      "text/plain": [
       "0.18833557463624606"
      ]
     },
     "execution_count": 34,
     "metadata": {},
     "output_type": "execute_result"
    }
   ],
   "source": [
    "df['processor_speed'].skew()"
   ]
  },
  {
   "cell_type": "code",
   "execution_count": 35,
   "id": "4d967a22",
   "metadata": {},
   "outputs": [
    {
     "data": {
      "text/plain": [
       "<Axes: >"
      ]
     },
     "execution_count": 35,
     "metadata": {},
     "output_type": "execute_result"
    },
    {
     "data": {
      "image/png": "[encoded data removed]",
      "text/plain": [
       "<Figure size 640x480 with 1 Axes>"
      ]
     },
     "metadata": {},
     "output_type": "display_data"
    }
   ],
   "source": [
    "sns.boxplot(df['processor_speed'])"
   ]
  },
  {
   "cell_type": "code",
   "execution_count": 36,
   "id": "beadfbac",
   "metadata": {},
   "outputs": [
    {
     "data": {
      "text/plain": [
       "count      969.000000\n",
       "mean      4817.748194\n",
       "std       1009.540054\n",
       "min       1821.000000\n",
       "25%       4500.000000\n",
       "50%       5000.000000\n",
       "75%       5000.000000\n",
       "max      22000.000000\n",
       "Name: battery_capacity, dtype: float64"
      ]
     },
     "execution_count": 36,
     "metadata": {},
     "output_type": "execute_result"
    }
   ],
   "source": [
    "df['battery_capacity'].describe()"
   ]
  },
  {
   "cell_type": "code",
   "execution_count": 37,
   "id": "a4a7c678",
   "metadata": {},
   "outputs": [
    {
     "data": {
      "text/plain": [
       "<seaborn.axisgrid.FacetGrid at 0x1d8b6276250>"
      ]
     },
     "execution_count": 37,
     "metadata": {},
     "output_type": "execute_result"
    },
    {
     "data": {
      "image/png": "[encoded data removed]",
      "text/plain": [
       "<Figure size 500x500 with 1 Axes>"
      ]
     },
     "metadata": {},
     "output_type": "display_data"
    }
   ],
   "source": [
    "sns.displot(kind='kde',data=df,x='battery_capacity')"
   ]
  },
  {
   "cell_type": "code",
   "execution_count": 38,
   "id": "a97a32f2",
   "metadata": {},
   "outputs": [
    {
     "data": {
      "text/html": [
       "<div>\n",
       "<style scoped>\n",
       "    .dataframe tbody tr th:only-of-type {\n",
       "        vertical-align: middle;\n",
       "    }\n",
       "\n",
       "    .dataframe tbody tr th {\n",
       "        vertical-align: top;\n",
       "    }\n",
       "\n",
       "    .dataframe thead th {\n",
       "        text-align: right;\n",
       "    }\n",
       "</style>\n",
       "<table border=\"1\" class=\"dataframe\">\n",
       "  <thead>\n",
       "    <tr style=\"text-align: right;\">\n",
       "      <th></th>\n",
       "      <th>brand</th>\n",
       "      <th>model</th>\n",
       "      <th>price</th>\n",
       "      <th>rating</th>\n",
       "      <th>5g</th>\n",
       "      <th>nfc</th>\n",
       "      <th>ir_blaster</th>\n",
       "      <th>processor_name</th>\n",
       "      <th>processor_brand</th>\n",
       "      <th>num_cores</th>\n",
       "      <th>...</th>\n",
       "      <th>fast_charging</th>\n",
       "      <th>screen_size</th>\n",
       "      <th>refresh_rate</th>\n",
       "      <th>resolution</th>\n",
       "      <th>num_rear_cameras</th>\n",
       "      <th>num_front_cameras</th>\n",
       "      <th>os</th>\n",
       "      <th>primary_camera_rear</th>\n",
       "      <th>primary_camera_front</th>\n",
       "      <th>extended_memory</th>\n",
       "    </tr>\n",
       "  </thead>\n",
       "  <tbody>\n",
       "    <tr>\n",
       "      <th>391</th>\n",
       "      <td>oukitel</td>\n",
       "      <td>Oukitel WP19</td>\n",
       "      <td>29990</td>\n",
       "      <td>84.0</td>\n",
       "      <td>False</td>\n",
       "      <td>True</td>\n",
       "      <td>False</td>\n",
       "      <td>Helio G95</td>\n",
       "      <td>helio</td>\n",
       "      <td>Octa Core</td>\n",
       "      <td>...</td>\n",
       "      <td>33</td>\n",
       "      <td>6.78</td>\n",
       "      <td>60</td>\n",
       "      <td>1080 x 2400</td>\n",
       "      <td>3</td>\n",
       "      <td>1</td>\n",
       "      <td>android</td>\n",
       "      <td>64.0</td>\n",
       "      <td>16</td>\n",
       "      <td>0</td>\n",
       "    </tr>\n",
       "    <tr>\n",
       "      <th>599</th>\n",
       "      <td>oukitel</td>\n",
       "      <td>Oukitel WP21</td>\n",
       "      <td>22990</td>\n",
       "      <td>82.0</td>\n",
       "      <td>False</td>\n",
       "      <td>False</td>\n",
       "      <td>False</td>\n",
       "      <td>Helio G99</td>\n",
       "      <td>helio</td>\n",
       "      <td>Octa Core</td>\n",
       "      <td>...</td>\n",
       "      <td>66</td>\n",
       "      <td>6.78</td>\n",
       "      <td>120</td>\n",
       "      <td>1080 x 2400</td>\n",
       "      <td>3</td>\n",
       "      <td>1</td>\n",
       "      <td>android</td>\n",
       "      <td>64.0</td>\n",
       "      <td>Main</td>\n",
       "      <td>0</td>\n",
       "    </tr>\n",
       "    <tr>\n",
       "      <th>843</th>\n",
       "      <td>doogee</td>\n",
       "      <td>Doogee V Max</td>\n",
       "      <td>45999</td>\n",
       "      <td>88.0</td>\n",
       "      <td>True</td>\n",
       "      <td>False</td>\n",
       "      <td>False</td>\n",
       "      <td>Dimensity 1080</td>\n",
       "      <td>dimensity</td>\n",
       "      <td>Octa Core</td>\n",
       "      <td>...</td>\n",
       "      <td>33</td>\n",
       "      <td>6.58</td>\n",
       "      <td>120</td>\n",
       "      <td>1080 x 2408</td>\n",
       "      <td>3</td>\n",
       "      <td>1</td>\n",
       "      <td>android</td>\n",
       "      <td>108.0</td>\n",
       "      <td>32</td>\n",
       "      <td>2 TB</td>\n",
       "    </tr>\n",
       "    <tr>\n",
       "      <th>966</th>\n",
       "      <td>oukitel</td>\n",
       "      <td>Oukitel WP9</td>\n",
       "      <td>25899</td>\n",
       "      <td>72.0</td>\n",
       "      <td>False</td>\n",
       "      <td>True</td>\n",
       "      <td>False</td>\n",
       "      <td>Helio P60</td>\n",
       "      <td>helio</td>\n",
       "      <td>Octa Core</td>\n",
       "      <td>...</td>\n",
       "      <td>-1</td>\n",
       "      <td>5.86</td>\n",
       "      <td>60</td>\n",
       "      <td>720 x 1520</td>\n",
       "      <td>3</td>\n",
       "      <td>1</td>\n",
       "      <td>android</td>\n",
       "      <td>16.0</td>\n",
       "      <td>8</td>\n",
       "      <td>0</td>\n",
       "    </tr>\n",
       "  </tbody>\n",
       "</table>\n",
       "<p>4 rows × 24 columns</p>\n",
       "</div>"
      ],
      "text/plain": [
       "       brand         model  price  rating     5g    nfc  ir_blaster  \\\n",
       "391  oukitel  Oukitel WP19  29990    84.0  False   True       False   \n",
       "599  oukitel  Oukitel WP21  22990    82.0  False  False       False   \n",
       "843   doogee  Doogee V Max  45999    88.0   True  False       False   \n",
       "966  oukitel   Oukitel WP9  25899    72.0  False   True       False   \n",
       "\n",
       "     processor_name processor_brand  num_cores  ...  fast_charging  \\\n",
       "391       Helio G95           helio  Octa Core  ...             33   \n",
       "599       Helio G99           helio  Octa Core  ...             66   \n",
       "843  Dimensity 1080       dimensity  Octa Core  ...             33   \n",
       "966       Helio P60           helio  Octa Core  ...             -1   \n",
       "\n",
       "     screen_size  refresh_rate    resolution  num_rear_cameras  \\\n",
       "391         6.78            60  1080 x 2400                  3   \n",
       "599         6.78           120  1080 x 2400                  3   \n",
       "843         6.58           120  1080 x 2408                  3   \n",
       "966         5.86            60   720 x 1520                  3   \n",
       "\n",
       "     num_front_cameras       os primary_camera_rear  primary_camera_front  \\\n",
       "391                  1  android                64.0                    16   \n",
       "599                  1  android                64.0                  Main   \n",
       "843                  1  android               108.0                    32   \n",
       "966                  1  android                16.0                     8   \n",
       "\n",
       "    extended_memory  \n",
       "391               0  \n",
       "599               0  \n",
       "843            2 TB  \n",
       "966               0  \n",
       "\n",
       "[4 rows x 24 columns]"
      ]
     },
     "execution_count": 38,
     "metadata": {},
     "output_type": "execute_result"
    }
   ],
   "source": [
    "df[df['battery_capacity'] > 7000]"
   ]
  },
  {
   "cell_type": "code",
   "execution_count": 39,
   "id": "a153886c",
   "metadata": {},
   "outputs": [
    {
     "data": {
      "text/plain": [
       "count    980.000000\n",
       "mean      36.048980\n",
       "std       35.948034\n",
       "min       -1.000000\n",
       "25%       15.000000\n",
       "50%       30.000000\n",
       "75%       65.000000\n",
       "max      240.000000\n",
       "Name: fast_charging, dtype: float64"
      ]
     },
     "execution_count": 39,
     "metadata": {},
     "output_type": "execute_result"
    }
   ],
   "source": [
    "df['fast_charging'].describe()"
   ]
  },
  {
   "cell_type": "code",
   "execution_count": 40,
   "id": "78f9b1d4",
   "metadata": {},
   "outputs": [],
   "source": [
    "def fast(row):\n",
    "\n",
    "    if row['fast_charging'] == -1:\n",
    "        return 0\n",
    "    else:\n",
    "        return 1"
   ]
  },
  {
   "cell_type": "code",
   "execution_count": 41,
   "id": "7cabe8b7",
   "metadata": {},
   "outputs": [],
   "source": [
    "x = df.apply(fast,axis=1)\n",
    "df.insert(12,'fast_charging_available',x)"
   ]
  },
  {
   "cell_type": "code",
   "execution_count": 42,
   "id": "af87d4ac",
   "metadata": {},
   "outputs": [],
   "source": [
    "df['fast_charging'] = df['fast_charging'].apply(lambda x:np.nan if x == 0 or x == -1 else x)"
   ]
  },
  {
   "cell_type": "code",
   "execution_count": 43,
   "id": "677feb9c",
   "metadata": {},
   "outputs": [
    {
     "data": {
      "text/plain": [
       "8     339\n",
       "6     234\n",
       "4     215\n",
       "12     86\n",
       "3      54\n",
       "2      32\n",
       "16      9\n",
       "1       7\n",
       "18      2\n",
       "64      2\n",
       "Name: ram_capacity, dtype: int64"
      ]
     },
     "execution_count": 43,
     "metadata": {},
     "output_type": "execute_result"
    }
   ],
   "source": [
    "df['ram_capacity'].value_counts()"
   ]
  },
  {
   "cell_type": "code",
   "execution_count": 44,
   "id": "dfa889b7",
   "metadata": {},
   "outputs": [],
   "source": [
    "temp_df = df[df['internal_memory'].isnull()]\n",
    "df.loc[temp_df.index,['ram_capacity','internal_memory']] = [[4,64],[4,64]]"
   ]
  },
  {
   "cell_type": "code",
   "execution_count": 45,
   "id": "839ab46b",
   "metadata": {},
   "outputs": [
    {
     "data": {
      "text/plain": [
       "128.0     523\n",
       "64.0      193\n",
       "256.0     157\n",
       "32.0       67\n",
       "512.0      22\n",
       "16.0       12\n",
       "1024.0      5\n",
       "8.0         1\n",
       "Name: internal_memory, dtype: int64"
      ]
     },
     "execution_count": 45,
     "metadata": {},
     "output_type": "execute_result"
    }
   ],
   "source": [
    "df['internal_memory'].value_counts()"
   ]
  },
  {
   "cell_type": "code",
   "execution_count": 46,
   "id": "d56ad785",
   "metadata": {},
   "outputs": [
    {
     "data": {
      "text/plain": [
       "count    980.000000\n",
       "mean       6.536765\n",
       "std        0.349162\n",
       "min        3.540000\n",
       "25%        6.500000\n",
       "50%        6.580000\n",
       "75%        6.670000\n",
       "max        8.030000\n",
       "Name: screen_size, dtype: float64"
      ]
     },
     "execution_count": 46,
     "metadata": {},
     "output_type": "execute_result"
    }
   ],
   "source": [
    "df['screen_size'].describe()"
   ]
  },
  {
   "cell_type": "code",
   "execution_count": 47,
   "id": "2634c6bf",
   "metadata": {},
   "outputs": [
    {
     "data": {
      "text/plain": [
       "<seaborn.axisgrid.FacetGrid at 0x1d8b732ea10>"
      ]
     },
     "execution_count": 47,
     "metadata": {},
     "output_type": "execute_result"
    },
    {
     "data": {
      "image/png": "[encoded data removed]",
      "text/plain": [
       "<Figure size 500x500 with 1 Axes>"
      ]
     },
     "metadata": {},
     "output_type": "display_data"
    }
   ],
   "source": [
    "sns.displot(kind='kde',data=df,x='screen_size')"
   ]
  },
  {
   "cell_type": "code",
   "execution_count": 48,
   "id": "b8bcf62c",
   "metadata": {},
   "outputs": [
    {
     "data": {
      "text/plain": [
       "-2.11619902968816"
      ]
     },
     "execution_count": 48,
     "metadata": {},
     "output_type": "execute_result"
    }
   ],
   "source": [
    "df['screen_size'].skew()"
   ]
  },
  {
   "cell_type": "code",
   "execution_count": 49,
   "id": "55fb87b2",
   "metadata": {},
   "outputs": [
    {
     "data": {
      "text/plain": [
       "<Axes: >"
      ]
     },
     "execution_count": 49,
     "metadata": {},
     "output_type": "execute_result"
    },
    {
     "data": {
      "image/png": "[encoded data removed]",
      "text/plain": [
       "<Figure size 640x480 with 1 Axes>"
      ]
     },
     "metadata": {},
     "output_type": "display_data"
    }
   ],
   "source": [
    "sns.boxplot(df['screen_size'])"
   ]
  },
  {
   "cell_type": "code",
   "execution_count": 50,
   "id": "4e69b561",
   "metadata": {},
   "outputs": [
    {
     "data": {
      "text/plain": [
       "0          473\n",
       "1 TB       262\n",
       "512 GB     116\n",
       "256 GB     104\n",
       "128 GB      10\n",
       "2 TB         8\n",
       "32 GB        3\n",
       "64 GB        3\n",
       "1000 GB      1\n",
       "Name: extended_memory, dtype: int64"
      ]
     },
     "execution_count": 50,
     "metadata": {},
     "output_type": "execute_result"
    }
   ],
   "source": [
    "df['extended_memory'].value_counts()"
   ]
  },
  {
   "cell_type": "code",
   "execution_count": 51,
   "id": "faf967d1",
   "metadata": {},
   "outputs": [],
   "source": [
    "df['extended_memory_available'] = df['extended_memory'].apply(lambda x:0 if x == '0' else 1)"
   ]
  },
  {
   "cell_type": "code",
   "execution_count": 52,
   "id": "f7186d56",
   "metadata": {},
   "outputs": [],
   "source": [
    "def extended_extractor(row):\n",
    "\n",
    "    if row['extended_memory_available'] == 0:\n",
    "        return np.nan\n",
    "    else:\n",
    "        if row['extended_memory'] == '1 TB':\n",
    "            return 1024\n",
    "        elif row['extended_memory'] == '512 GB':\n",
    "            return 512\n",
    "        elif row['extended_memory'] == '256 GB':\n",
    "            return 256\n",
    "        elif row['extended_memory'] == 'Not Specified':\n",
    "            return np.nan\n",
    "        elif row['extended_memory'] == 'Memory Card (Hybrid)':\n",
    "            return np.nan\n",
    "        elif row['extended_memory'] == '128 GB':\n",
    "            return 128\n",
    "        elif row['extended_memory'] == '2 TB':\n",
    "            return 2048\n",
    "        elif row['extended_memory'] == '32 GB':\n",
    "            return 32\n",
    "        elif row['extended_memory'] == '64 GB':\n",
    "            return 64\n",
    "        elif row['extended_memory'] == '1000 GB':\n",
    "            return 1000"
   ]
  },
  {
   "cell_type": "code",
   "execution_count": 53,
   "id": "1a68c3bc",
   "metadata": {},
   "outputs": [],
   "source": [
    "def extended_extractor(row):\n",
    "\n",
    "    if row['extended_memory_available'] == 0:\n",
    "        return np.nan\n",
    "    else:\n",
    "        if row['extended_memory'] == 'Not Specified':\n",
    "            return np.nan\n",
    "        elif row['extended_memory'] == 'Memory Card (Hybrid)':\n",
    "            return np.nan\n",
    "        else:\n",
    "            return row['extended_memory']"
   ]
  },
  {
   "cell_type": "code",
   "execution_count": 54,
   "id": "6db5c014",
   "metadata": {},
   "outputs": [],
   "source": [
    "x = df.apply(extended_extractor,axis=1).str.replace('\\u2009',' ').str.split(' ').str.get(0)\n",
    "df['extended_upto'] = x"
   ]
  },
  {
   "cell_type": "code",
   "execution_count": 55,
   "id": "90402f71",
   "metadata": {},
   "outputs": [
    {
     "data": {
      "text/plain": [
       "1       262\n",
       "512     116\n",
       "256     104\n",
       "128      10\n",
       "2         8\n",
       "32        3\n",
       "64        3\n",
       "1000      1\n",
       "Name: extended_upto, dtype: int64"
      ]
     },
     "execution_count": 55,
     "metadata": {},
     "output_type": "execute_result"
    }
   ],
   "source": [
    "df['extended_upto'].value_counts()"
   ]
  },
  {
   "cell_type": "code",
   "execution_count": 56,
   "id": "038cfa41",
   "metadata": {},
   "outputs": [],
   "source": [
    "def transform(text):\n",
    "\n",
    "    if text == '1':\n",
    "        return '1024'\n",
    "    elif text == '2':\n",
    "        return '2048'\n",
    "    elif text == '1000':\n",
    "        return '1024'\n",
    "    else:\n",
    "        return text"
   ]
  },
  {
   "cell_type": "code",
   "execution_count": 57,
   "id": "118ce072",
   "metadata": {},
   "outputs": [],
   "source": [
    "df['extended_upto'] = df['extended_upto'].apply(transform)"
   ]
  },
  {
   "cell_type": "code",
   "execution_count": 58,
   "id": "775325ef",
   "metadata": {},
   "outputs": [
    {
     "data": {
      "text/plain": [
       "brand                          0\n",
       "model                          0\n",
       "price                          0\n",
       "rating                       101\n",
       "5g                             0\n",
       "nfc                            0\n",
       "ir_blaster                     0\n",
       "processor_name                20\n",
       "processor_brand               20\n",
       "num_cores                      6\n",
       "processor_speed               42\n",
       "ram_capacity                   0\n",
       "fast_charging_available        0\n",
       "internal_memory                0\n",
       "battery_capacity              11\n",
       "fast_charging                211\n",
       "screen_size                    0\n",
       "refresh_rate                   0\n",
       "resolution                     0\n",
       "num_rear_cameras               0\n",
       "num_front_cameras              0\n",
       "os                             0\n",
       "primary_camera_rear            0\n",
       "primary_camera_front           4\n",
       "extended_memory                0\n",
       "extended_memory_available      0\n",
       "extended_upto                473\n",
       "dtype: int64"
      ]
     },
     "execution_count": 58,
     "metadata": {},
     "output_type": "execute_result"
    }
   ],
   "source": [
    "df.isnull().sum()"
   ]
  },
  {
   "cell_type": "code",
   "execution_count": 59,
   "id": "0e0f4985",
   "metadata": {},
   "outputs": [],
   "source": [
    "def os_transform(text):\n",
    "\n",
    "    if 'Memory' in text:\n",
    "        return np.nan\n",
    "    elif 'android' in text:\n",
    "        return text\n",
    "    elif 'ios' in text:\n",
    "        return text\n",
    "    else:\n",
    "        return 'other'"
   ]
  },
  {
   "cell_type": "code",
   "execution_count": 60,
   "id": "af6bd149",
   "metadata": {},
   "outputs": [],
   "source": [
    "df['os'] = df['os'].apply(os_transform)"
   ]
  },
  {
   "cell_type": "code",
   "execution_count": 61,
   "id": "d1b591d5",
   "metadata": {},
   "outputs": [],
   "source": [
    "df.drop(columns=['processor_name','extended_memory'],inplace=True)"
   ]
  },
  {
   "cell_type": "code",
   "execution_count": 62,
   "id": "f5670860",
   "metadata": {},
   "outputs": [
    {
     "data": {
      "text/plain": [
       "16      307\n",
       "8       178\n",
       "32      155\n",
       "5       119\n",
       "12       50\n",
       "13       41\n",
       "20       37\n",
       "10       24\n",
       "50       12\n",
       "60       10\n",
       "44        8\n",
       "40        6\n",
       "2         5\n",
       "7         5\n",
       "24        3\n",
       "25        3\n",
       "10.8      3\n",
       "48        2\n",
       "11.1      2\n",
       "0.3       1\n",
       "2.1       1\n",
       "Main      1\n",
       "10.7      1\n",
       "10.1      1\n",
       "12.6      1\n",
       "Name: primary_camera_front, dtype: int64"
      ]
     },
     "execution_count": 62,
     "metadata": {},
     "output_type": "execute_result"
    }
   ],
   "source": [
    "df['primary_camera_front'].value_counts()"
   ]
  },
  {
   "cell_type": "code",
   "execution_count": 63,
   "id": "ef6ae7f7",
   "metadata": {},
   "outputs": [],
   "source": [
    "df['primary_camera_front'] = df['primary_camera_front'].apply(lambda x: np.nan if x == 'Main' else x).astype(float)"
   ]
  },
  {
   "cell_type": "code",
   "execution_count": 64,
   "id": "14e8ea5d",
   "metadata": {},
   "outputs": [
    {
     "data": {
      "text/plain": [
       "Octa Core    899\n",
       "Hexa Core     39\n",
       "Quad Core     36\n",
       "Name: num_cores, dtype: int64"
      ]
     },
     "execution_count": 64,
     "metadata": {},
     "output_type": "execute_result"
    }
   ],
   "source": [
    "df['num_cores'].value_counts()"
   ]
  },
  {
   "cell_type": "code",
   "execution_count": 65,
   "id": "aad41220",
   "metadata": {},
   "outputs": [],
   "source": [
    "df['num_cores'] = df['num_cores'].str.replace('Octa Core','8')\n",
    "df['num_cores'] = df['num_cores'].str.replace('Hexa Core','6')\n",
    "df['num_cores'] = df['num_cores'].str.replace('Quad Core','4')"
   ]
  },
  {
   "cell_type": "code",
   "execution_count": 66,
   "id": "f4f544bb",
   "metadata": {},
   "outputs": [
    {
     "data": {
      "text/plain": [
       "8    899\n",
       "6     39\n",
       "4     36\n",
       "Name: num_cores, dtype: int64"
      ]
     },
     "execution_count": 66,
     "metadata": {},
     "output_type": "execute_result"
    }
   ],
   "source": [
    "df['num_cores'].value_counts()"
   ]
  },
  {
   "cell_type": "code",
   "execution_count": 67,
   "id": "75e951bb",
   "metadata": {},
   "outputs": [],
   "source": [
    "def transform(x):\n",
    "    if x == 'Missing':\n",
    "        return np.nan\n",
    "    else:\n",
    "        return x"
   ]
  },
  {
   "cell_type": "code",
   "execution_count": 69,
   "id": "31e18f13",
   "metadata": {},
   "outputs": [],
   "source": [
    "df['num_front_cameras'] = df['num_front_cameras'].apply(transform)"
   ]
  },
  {
   "cell_type": "code",
   "execution_count": 70,
   "id": "a363a8d8",
   "metadata": {},
   "outputs": [],
   "source": [
    "df['num_front_cameras'] = df['num_front_cameras'].astype(float)"
   ]
  },
  {
   "cell_type": "code",
   "execution_count": 71,
   "id": "6799d027",
   "metadata": {},
   "outputs": [],
   "source": [
    "df.to_csv('smartphone_data_cleaned.csv',index=False)"
   ]
  },
  {
   "cell_type": "code",
   "execution_count": 72,
   "id": "6d838df0",
   "metadata": {
    "scrolled": true
   },
   "outputs": [
    {
     "name": "stdout",
     "output_type": "stream",
     "text": [
      "<class 'pandas.core.frame.DataFrame'>\n",
      "RangeIndex: 980 entries, 0 to 979\n",
      "Data columns (total 25 columns):\n",
      " #   Column                     Non-Null Count  Dtype  \n",
      "---  ------                     --------------  -----  \n",
      " 0   brand                      980 non-null    object \n",
      " 1   model                      980 non-null    object \n",
      " 2   price                      980 non-null    int64  \n",
      " 3   rating                     879 non-null    float64\n",
      " 4   5g                         980 non-null    bool   \n",
      " 5   nfc                        980 non-null    bool   \n",
      " 6   ir_blaster                 980 non-null    bool   \n",
      " 7   processor_brand            960 non-null    object \n",
      " 8   num_cores                  974 non-null    object \n",
      " 9   processor_speed            938 non-null    float64\n",
      " 10  ram_capacity               980 non-null    int64  \n",
      " 11  fast_charging_available    980 non-null    int64  \n",
      " 12  internal_memory            980 non-null    float64\n",
      " 13  battery_capacity           969 non-null    float64\n",
      " 14  fast_charging              769 non-null    float64\n",
      " 15  screen_size                980 non-null    float64\n",
      " 16  refresh_rate               980 non-null    int64  \n",
      " 17  resolution                 980 non-null    object \n",
      " 18  num_rear_cameras           980 non-null    int64  \n",
      " 19  num_front_cameras          976 non-null    float64\n",
      " 20  os                         980 non-null    object \n",
      " 21  primary_camera_rear        980 non-null    float64\n",
      " 22  primary_camera_front       975 non-null    float64\n",
      " 23  extended_memory_available  980 non-null    int64  \n",
      " 24  extended_upto              507 non-null    object \n",
      "dtypes: bool(3), float64(9), int64(6), object(7)\n",
      "memory usage: 171.4+ KB\n"
     ]
    }
   ],
   "source": [
    "df.info()"
   ]
  },
  {
   "cell_type": "code",
   "execution_count": null,
   "id": "a61840a5",
   "metadata": {},
   "outputs": [],
   "source": []
  }
 ],
 "metadata": {
  "kernelspec": {
   "display_name": "Python 3 (ipykernel)",
   "language": "python",
   "name": "python3"
  },
  "language_info": {
   "codemirror_mode": {
    "name": "ipython",
    "version": 3
   },
   "file_extension": ".py",
   "mimetype": "text/x-python",
   "name": "python",
   "nbconvert_exporter": "python",
   "pygments_lexer": "ipython3",
   "version": "3.11.4"
  }
 },
 "nbformat": 4,
 "nbformat_minor": 5
}
