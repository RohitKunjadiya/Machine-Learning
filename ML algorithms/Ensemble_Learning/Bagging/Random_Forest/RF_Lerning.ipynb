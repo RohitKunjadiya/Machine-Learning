{
 "cells": [
  {
   "cell_type": "code",
   "execution_count": 11,
   "id": "aab7d6de",
   "metadata": {},
   "outputs": [],
   "source": [
    "import numpy as np\n",
    "import pandas as pd\n",
    "from sklearn.datasets import make_classification\n",
    "import random"
   ]
  },
  {
   "cell_type": "code",
   "execution_count": 2,
   "id": "cda31858",
   "metadata": {},
   "outputs": [],
   "source": [
    "X,y = make_classification(n_features=5, n_redundant=0, n_informative=5,n_clusters_per_class=1)"
   ]
  },
  {
   "cell_type": "code",
   "execution_count": 3,
   "id": "11820035",
   "metadata": {},
   "outputs": [
    {
     "name": "stdout",
     "output_type": "stream",
     "text": [
      "(100, 6)\n"
     ]
    },
    {
     "data": {
      "text/html": [
       "<div>\n",
       "<style scoped>\n",
       "    .dataframe tbody tr th:only-of-type {\n",
       "        vertical-align: middle;\n",
       "    }\n",
       "\n",
       "    .dataframe tbody tr th {\n",
       "        vertical-align: top;\n",
       "    }\n",
       "\n",
       "    .dataframe thead th {\n",
       "        text-align: right;\n",
       "    }\n",
       "</style>\n",
       "<table border=\"1\" class=\"dataframe\">\n",
       "  <thead>\n",
       "    <tr style=\"text-align: right;\">\n",
       "      <th></th>\n",
       "      <th>col1</th>\n",
       "      <th>col2</th>\n",
       "      <th>col3</th>\n",
       "      <th>col4</th>\n",
       "      <th>col5</th>\n",
       "      <th>target</th>\n",
       "    </tr>\n",
       "  </thead>\n",
       "  <tbody>\n",
       "    <tr>\n",
       "      <th>0</th>\n",
       "      <td>-2.284489</td>\n",
       "      <td>0.974776</td>\n",
       "      <td>0.501363</td>\n",
       "      <td>-1.978849</td>\n",
       "      <td>-2.051690</td>\n",
       "      <td>1</td>\n",
       "    </tr>\n",
       "    <tr>\n",
       "      <th>1</th>\n",
       "      <td>1.742004</td>\n",
       "      <td>-0.387336</td>\n",
       "      <td>0.541847</td>\n",
       "      <td>2.777330</td>\n",
       "      <td>-0.920441</td>\n",
       "      <td>0</td>\n",
       "    </tr>\n",
       "    <tr>\n",
       "      <th>2</th>\n",
       "      <td>0.267708</td>\n",
       "      <td>1.688635</td>\n",
       "      <td>1.794482</td>\n",
       "      <td>-0.293814</td>\n",
       "      <td>-1.547757</td>\n",
       "      <td>0</td>\n",
       "    </tr>\n",
       "    <tr>\n",
       "      <th>3</th>\n",
       "      <td>-0.097483</td>\n",
       "      <td>-1.716639</td>\n",
       "      <td>0.485967</td>\n",
       "      <td>-3.919227</td>\n",
       "      <td>0.772011</td>\n",
       "      <td>0</td>\n",
       "    </tr>\n",
       "    <tr>\n",
       "      <th>4</th>\n",
       "      <td>-2.056241</td>\n",
       "      <td>0.834767</td>\n",
       "      <td>-1.780328</td>\n",
       "      <td>1.003002</td>\n",
       "      <td>-0.479719</td>\n",
       "      <td>1</td>\n",
       "    </tr>\n",
       "  </tbody>\n",
       "</table>\n",
       "</div>"
      ],
      "text/plain": [
       "       col1      col2      col3      col4      col5  target\n",
       "0 -2.284489  0.974776  0.501363 -1.978849 -2.051690       1\n",
       "1  1.742004 -0.387336  0.541847  2.777330 -0.920441       0\n",
       "2  0.267708  1.688635  1.794482 -0.293814 -1.547757       0\n",
       "3 -0.097483 -1.716639  0.485967 -3.919227  0.772011       0\n",
       "4 -2.056241  0.834767 -1.780328  1.003002 -0.479719       1"
      ]
     },
     "execution_count": 3,
     "metadata": {},
     "output_type": "execute_result"
    }
   ],
   "source": [
    "df = pd.DataFrame(X,columns=['col1','col2','col3','col4','col5'])\n",
    "df['target'] = y\n",
    "print(df.shape)\n",
    "df.head()"
   ]
  },
  {
   "cell_type": "code",
   "execution_count": 4,
   "id": "bbcef565",
   "metadata": {},
   "outputs": [],
   "source": [
    "# function for row sampling\n",
    "\n",
    "def sample_rows(df,percent):\n",
    "    return df.sample(int(percent*df.shape[0]),replace=True)"
   ]
  },
  {
   "cell_type": "code",
   "execution_count": 12,
   "id": "a0ba9650",
   "metadata": {},
   "outputs": [],
   "source": [
    "# function for feature sampling\n",
    "\n",
    "def sample_features(df,percent):\n",
    "    cols = random.sample(df.columns.tolist()[:-1],int(percent*(df.shape[1]-1)))\n",
    "    new_df = df[cols]\n",
    "    new_df['target'] = df['target']\n",
    "    return new_df"
   ]
  },
  {
   "cell_type": "code",
   "execution_count": 13,
   "id": "74618bfa",
   "metadata": {},
   "outputs": [],
   "source": [
    "# function for combined sampling\n",
    "\n",
    "def combined_sampling(df,row_percent,col_percent):\n",
    "    new_df = sample_rows(df,row_percent)\n",
    "    return sample_features(new_df,col_percent)"
   ]
  },
  {
   "cell_type": "code",
   "execution_count": 14,
   "id": "70654a2e",
   "metadata": {},
   "outputs": [
    {
     "name": "stderr",
     "output_type": "stream",
     "text": [
      "C:\\Users\\HP\\AppData\\Local\\Temp\\ipykernel_8676\\1158166936.py:6: SettingWithCopyWarning: \n",
      "A value is trying to be set on a copy of a slice from a DataFrame.\n",
      "Try using .loc[row_indexer,col_indexer] = value instead\n",
      "\n",
      "See the caveats in the documentation: https://pandas.pydata.org/pandas-docs/stable/user_guide/indexing.html#returning-a-view-versus-a-copy\n",
      "  new_df['target'] = df['target']\n"
     ]
    }
   ],
   "source": [
    "df1 = combined_sampling(df,0.5,0.5)"
   ]
  },
  {
   "cell_type": "code",
   "execution_count": 15,
   "id": "e41cc3d5",
   "metadata": {},
   "outputs": [
    {
     "name": "stderr",
     "output_type": "stream",
     "text": [
      "C:\\Users\\HP\\AppData\\Local\\Temp\\ipykernel_8676\\1158166936.py:6: SettingWithCopyWarning: \n",
      "A value is trying to be set on a copy of a slice from a DataFrame.\n",
      "Try using .loc[row_indexer,col_indexer] = value instead\n",
      "\n",
      "See the caveats in the documentation: https://pandas.pydata.org/pandas-docs/stable/user_guide/indexing.html#returning-a-view-versus-a-copy\n",
      "  new_df['target'] = df['target']\n"
     ]
    }
   ],
   "source": [
    "df2 = combined_sampling(df,0.5,0.5)"
   ]
  },
  {
   "cell_type": "code",
   "execution_count": 16,
   "id": "22537c57",
   "metadata": {},
   "outputs": [
    {
     "name": "stderr",
     "output_type": "stream",
     "text": [
      "C:\\Users\\HP\\AppData\\Local\\Temp\\ipykernel_8676\\1158166936.py:6: SettingWithCopyWarning: \n",
      "A value is trying to be set on a copy of a slice from a DataFrame.\n",
      "Try using .loc[row_indexer,col_indexer] = value instead\n",
      "\n",
      "See the caveats in the documentation: https://pandas.pydata.org/pandas-docs/stable/user_guide/indexing.html#returning-a-view-versus-a-copy\n",
      "  new_df['target'] = df['target']\n"
     ]
    }
   ],
   "source": [
    "df3 = combined_sampling(df,0.5,0.5)"
   ]
  },
  {
   "cell_type": "code",
   "execution_count": 17,
   "id": "f3499901",
   "metadata": {},
   "outputs": [
    {
     "name": "stdout",
     "output_type": "stream",
     "text": [
      "Index(['col4', 'col2', 'target'], dtype='object')\n",
      "Index(['col5', 'col3', 'target'], dtype='object')\n",
      "Index(['col2', 'col4', 'target'], dtype='object')\n"
     ]
    }
   ],
   "source": [
    "print(df1.columns)\n",
    "print(df2.columns)\n",
    "print(df3.columns)"
   ]
  },
  {
   "cell_type": "code",
   "execution_count": 18,
   "id": "34cb7a28",
   "metadata": {},
   "outputs": [
    {
     "data": {
      "text/html": [
       "<div>\n",
       "<style scoped>\n",
       "    .dataframe tbody tr th:only-of-type {\n",
       "        vertical-align: middle;\n",
       "    }\n",
       "\n",
       "    .dataframe tbody tr th {\n",
       "        vertical-align: top;\n",
       "    }\n",
       "\n",
       "    .dataframe thead th {\n",
       "        text-align: right;\n",
       "    }\n",
       "</style>\n",
       "<table border=\"1\" class=\"dataframe\">\n",
       "  <thead>\n",
       "    <tr style=\"text-align: right;\">\n",
       "      <th></th>\n",
       "      <th>col5</th>\n",
       "      <th>col3</th>\n",
       "      <th>target</th>\n",
       "    </tr>\n",
       "  </thead>\n",
       "  <tbody>\n",
       "    <tr>\n",
       "      <th>56</th>\n",
       "      <td>3.898470</td>\n",
       "      <td>-0.325016</td>\n",
       "      <td>1</td>\n",
       "    </tr>\n",
       "    <tr>\n",
       "      <th>21</th>\n",
       "      <td>2.864771</td>\n",
       "      <td>0.154927</td>\n",
       "      <td>1</td>\n",
       "    </tr>\n",
       "    <tr>\n",
       "      <th>95</th>\n",
       "      <td>-1.893933</td>\n",
       "      <td>-0.909444</td>\n",
       "      <td>1</td>\n",
       "    </tr>\n",
       "    <tr>\n",
       "      <th>58</th>\n",
       "      <td>1.360610</td>\n",
       "      <td>0.195208</td>\n",
       "      <td>1</td>\n",
       "    </tr>\n",
       "    <tr>\n",
       "      <th>11</th>\n",
       "      <td>-1.068852</td>\n",
       "      <td>-0.381196</td>\n",
       "      <td>1</td>\n",
       "    </tr>\n",
       "    <tr>\n",
       "      <th>99</th>\n",
       "      <td>1.346939</td>\n",
       "      <td>0.586567</td>\n",
       "      <td>1</td>\n",
       "    </tr>\n",
       "    <tr>\n",
       "      <th>54</th>\n",
       "      <td>-2.760362</td>\n",
       "      <td>3.462895</td>\n",
       "      <td>0</td>\n",
       "    </tr>\n",
       "    <tr>\n",
       "      <th>53</th>\n",
       "      <td>-1.231394</td>\n",
       "      <td>0.247462</td>\n",
       "      <td>0</td>\n",
       "    </tr>\n",
       "    <tr>\n",
       "      <th>69</th>\n",
       "      <td>0.822898</td>\n",
       "      <td>-1.969428</td>\n",
       "      <td>0</td>\n",
       "    </tr>\n",
       "    <tr>\n",
       "      <th>14</th>\n",
       "      <td>-2.154910</td>\n",
       "      <td>0.081953</td>\n",
       "      <td>0</td>\n",
       "    </tr>\n",
       "    <tr>\n",
       "      <th>93</th>\n",
       "      <td>1.104296</td>\n",
       "      <td>-2.204735</td>\n",
       "      <td>1</td>\n",
       "    </tr>\n",
       "    <tr>\n",
       "      <th>19</th>\n",
       "      <td>0.517784</td>\n",
       "      <td>1.894041</td>\n",
       "      <td>0</td>\n",
       "    </tr>\n",
       "    <tr>\n",
       "      <th>11</th>\n",
       "      <td>-1.068852</td>\n",
       "      <td>-0.381196</td>\n",
       "      <td>1</td>\n",
       "    </tr>\n",
       "    <tr>\n",
       "      <th>4</th>\n",
       "      <td>-0.479719</td>\n",
       "      <td>-1.780328</td>\n",
       "      <td>1</td>\n",
       "    </tr>\n",
       "    <tr>\n",
       "      <th>72</th>\n",
       "      <td>0.566612</td>\n",
       "      <td>-0.120074</td>\n",
       "      <td>0</td>\n",
       "    </tr>\n",
       "    <tr>\n",
       "      <th>13</th>\n",
       "      <td>1.530684</td>\n",
       "      <td>-2.714691</td>\n",
       "      <td>1</td>\n",
       "    </tr>\n",
       "    <tr>\n",
       "      <th>37</th>\n",
       "      <td>-0.253563</td>\n",
       "      <td>0.627993</td>\n",
       "      <td>0</td>\n",
       "    </tr>\n",
       "    <tr>\n",
       "      <th>82</th>\n",
       "      <td>-0.347085</td>\n",
       "      <td>-1.118222</td>\n",
       "      <td>1</td>\n",
       "    </tr>\n",
       "    <tr>\n",
       "      <th>32</th>\n",
       "      <td>-1.825528</td>\n",
       "      <td>-0.937919</td>\n",
       "      <td>1</td>\n",
       "    </tr>\n",
       "    <tr>\n",
       "      <th>8</th>\n",
       "      <td>-0.664796</td>\n",
       "      <td>0.370416</td>\n",
       "      <td>1</td>\n",
       "    </tr>\n",
       "    <tr>\n",
       "      <th>19</th>\n",
       "      <td>0.517784</td>\n",
       "      <td>1.894041</td>\n",
       "      <td>0</td>\n",
       "    </tr>\n",
       "    <tr>\n",
       "      <th>42</th>\n",
       "      <td>-0.380630</td>\n",
       "      <td>0.405727</td>\n",
       "      <td>0</td>\n",
       "    </tr>\n",
       "    <tr>\n",
       "      <th>0</th>\n",
       "      <td>-2.051690</td>\n",
       "      <td>0.501363</td>\n",
       "      <td>1</td>\n",
       "    </tr>\n",
       "    <tr>\n",
       "      <th>2</th>\n",
       "      <td>-1.547757</td>\n",
       "      <td>1.794482</td>\n",
       "      <td>0</td>\n",
       "    </tr>\n",
       "    <tr>\n",
       "      <th>12</th>\n",
       "      <td>1.388786</td>\n",
       "      <td>1.135775</td>\n",
       "      <td>0</td>\n",
       "    </tr>\n",
       "    <tr>\n",
       "      <th>75</th>\n",
       "      <td>-1.334795</td>\n",
       "      <td>-1.658289</td>\n",
       "      <td>1</td>\n",
       "    </tr>\n",
       "    <tr>\n",
       "      <th>79</th>\n",
       "      <td>-0.997360</td>\n",
       "      <td>-0.574519</td>\n",
       "      <td>0</td>\n",
       "    </tr>\n",
       "    <tr>\n",
       "      <th>21</th>\n",
       "      <td>2.864771</td>\n",
       "      <td>0.154927</td>\n",
       "      <td>1</td>\n",
       "    </tr>\n",
       "    <tr>\n",
       "      <th>96</th>\n",
       "      <td>0.310136</td>\n",
       "      <td>1.163191</td>\n",
       "      <td>0</td>\n",
       "    </tr>\n",
       "    <tr>\n",
       "      <th>61</th>\n",
       "      <td>-3.234611</td>\n",
       "      <td>3.186853</td>\n",
       "      <td>0</td>\n",
       "    </tr>\n",
       "    <tr>\n",
       "      <th>84</th>\n",
       "      <td>-0.610233</td>\n",
       "      <td>4.036380</td>\n",
       "      <td>0</td>\n",
       "    </tr>\n",
       "    <tr>\n",
       "      <th>14</th>\n",
       "      <td>-2.154910</td>\n",
       "      <td>0.081953</td>\n",
       "      <td>0</td>\n",
       "    </tr>\n",
       "    <tr>\n",
       "      <th>33</th>\n",
       "      <td>-1.822574</td>\n",
       "      <td>2.482592</td>\n",
       "      <td>0</td>\n",
       "    </tr>\n",
       "    <tr>\n",
       "      <th>77</th>\n",
       "      <td>0.168445</td>\n",
       "      <td>-0.163452</td>\n",
       "      <td>1</td>\n",
       "    </tr>\n",
       "    <tr>\n",
       "      <th>26</th>\n",
       "      <td>-0.183992</td>\n",
       "      <td>1.577594</td>\n",
       "      <td>0</td>\n",
       "    </tr>\n",
       "    <tr>\n",
       "      <th>73</th>\n",
       "      <td>-0.916294</td>\n",
       "      <td>-2.445469</td>\n",
       "      <td>1</td>\n",
       "    </tr>\n",
       "    <tr>\n",
       "      <th>65</th>\n",
       "      <td>-2.275397</td>\n",
       "      <td>-0.052468</td>\n",
       "      <td>1</td>\n",
       "    </tr>\n",
       "    <tr>\n",
       "      <th>32</th>\n",
       "      <td>-1.825528</td>\n",
       "      <td>-0.937919</td>\n",
       "      <td>1</td>\n",
       "    </tr>\n",
       "    <tr>\n",
       "      <th>38</th>\n",
       "      <td>-0.969887</td>\n",
       "      <td>0.923775</td>\n",
       "      <td>1</td>\n",
       "    </tr>\n",
       "    <tr>\n",
       "      <th>21</th>\n",
       "      <td>2.864771</td>\n",
       "      <td>0.154927</td>\n",
       "      <td>1</td>\n",
       "    </tr>\n",
       "    <tr>\n",
       "      <th>56</th>\n",
       "      <td>3.898470</td>\n",
       "      <td>-0.325016</td>\n",
       "      <td>1</td>\n",
       "    </tr>\n",
       "    <tr>\n",
       "      <th>33</th>\n",
       "      <td>-1.822574</td>\n",
       "      <td>2.482592</td>\n",
       "      <td>0</td>\n",
       "    </tr>\n",
       "    <tr>\n",
       "      <th>79</th>\n",
       "      <td>-0.997360</td>\n",
       "      <td>-0.574519</td>\n",
       "      <td>0</td>\n",
       "    </tr>\n",
       "    <tr>\n",
       "      <th>84</th>\n",
       "      <td>-0.610233</td>\n",
       "      <td>4.036380</td>\n",
       "      <td>0</td>\n",
       "    </tr>\n",
       "    <tr>\n",
       "      <th>73</th>\n",
       "      <td>-0.916294</td>\n",
       "      <td>-2.445469</td>\n",
       "      <td>1</td>\n",
       "    </tr>\n",
       "    <tr>\n",
       "      <th>2</th>\n",
       "      <td>-1.547757</td>\n",
       "      <td>1.794482</td>\n",
       "      <td>0</td>\n",
       "    </tr>\n",
       "    <tr>\n",
       "      <th>34</th>\n",
       "      <td>-1.531696</td>\n",
       "      <td>0.766095</td>\n",
       "      <td>1</td>\n",
       "    </tr>\n",
       "    <tr>\n",
       "      <th>42</th>\n",
       "      <td>-0.380630</td>\n",
       "      <td>0.405727</td>\n",
       "      <td>0</td>\n",
       "    </tr>\n",
       "    <tr>\n",
       "      <th>13</th>\n",
       "      <td>1.530684</td>\n",
       "      <td>-2.714691</td>\n",
       "      <td>1</td>\n",
       "    </tr>\n",
       "    <tr>\n",
       "      <th>47</th>\n",
       "      <td>1.168816</td>\n",
       "      <td>-2.974577</td>\n",
       "      <td>1</td>\n",
       "    </tr>\n",
       "  </tbody>\n",
       "</table>\n",
       "</div>"
      ],
      "text/plain": [
       "        col5      col3  target\n",
       "56  3.898470 -0.325016       1\n",
       "21  2.864771  0.154927       1\n",
       "95 -1.893933 -0.909444       1\n",
       "58  1.360610  0.195208       1\n",
       "11 -1.068852 -0.381196       1\n",
       "99  1.346939  0.586567       1\n",
       "54 -2.760362  3.462895       0\n",
       "53 -1.231394  0.247462       0\n",
       "69  0.822898 -1.969428       0\n",
       "14 -2.154910  0.081953       0\n",
       "93  1.104296 -2.204735       1\n",
       "19  0.517784  1.894041       0\n",
       "11 -1.068852 -0.381196       1\n",
       "4  -0.479719 -1.780328       1\n",
       "72  0.566612 -0.120074       0\n",
       "13  1.530684 -2.714691       1\n",
       "37 -0.253563  0.627993       0\n",
       "82 -0.347085 -1.118222       1\n",
       "32 -1.825528 -0.937919       1\n",
       "8  -0.664796  0.370416       1\n",
       "19  0.517784  1.894041       0\n",
       "42 -0.380630  0.405727       0\n",
       "0  -2.051690  0.501363       1\n",
       "2  -1.547757  1.794482       0\n",
       "12  1.388786  1.135775       0\n",
       "75 -1.334795 -1.658289       1\n",
       "79 -0.997360 -0.574519       0\n",
       "21  2.864771  0.154927       1\n",
       "96  0.310136  1.163191       0\n",
       "61 -3.234611  3.186853       0\n",
       "84 -0.610233  4.036380       0\n",
       "14 -2.154910  0.081953       0\n",
       "33 -1.822574  2.482592       0\n",
       "77  0.168445 -0.163452       1\n",
       "26 -0.183992  1.577594       0\n",
       "73 -0.916294 -2.445469       1\n",
       "65 -2.275397 -0.052468       1\n",
       "32 -1.825528 -0.937919       1\n",
       "38 -0.969887  0.923775       1\n",
       "21  2.864771  0.154927       1\n",
       "56  3.898470 -0.325016       1\n",
       "33 -1.822574  2.482592       0\n",
       "79 -0.997360 -0.574519       0\n",
       "84 -0.610233  4.036380       0\n",
       "73 -0.916294 -2.445469       1\n",
       "2  -1.547757  1.794482       0\n",
       "34 -1.531696  0.766095       1\n",
       "42 -0.380630  0.405727       0\n",
       "13  1.530684 -2.714691       1\n",
       "47  1.168816 -2.974577       1"
      ]
     },
     "execution_count": 18,
     "metadata": {},
     "output_type": "execute_result"
    }
   ],
   "source": [
    "df2"
   ]
  },
  {
   "cell_type": "code",
   "execution_count": 19,
   "id": "fc5a6c47",
   "metadata": {},
   "outputs": [],
   "source": [
    "from sklearn.tree import DecisionTreeClassifier\n",
    "clf1 = DecisionTreeClassifier()\n",
    "clf2 = DecisionTreeClassifier()\n",
    "clf3 = DecisionTreeClassifier()"
   ]
  },
  {
   "cell_type": "code",
   "execution_count": 20,
   "id": "3c889cae",
   "metadata": {},
   "outputs": [
    {
     "data": {
      "text/html": [
       "<style>#sk-container-id-1 {color: black;}#sk-container-id-1 pre{padding: 0;}#sk-container-id-1 div.sk-toggleable {background-color: white;}#sk-container-id-1 label.sk-toggleable__label {cursor: pointer;display: block;width: 100%;margin-bottom: 0;padding: 0.3em;box-sizing: border-box;text-align: center;}#sk-container-id-1 label.sk-toggleable__label-arrow:before {content: \"▸\";float: left;margin-right: 0.25em;color: #696969;}#sk-container-id-1 label.sk-toggleable__label-arrow:hover:before {color: black;}#sk-container-id-1 div.sk-estimator:hover label.sk-toggleable__label-arrow:before {color: black;}#sk-container-id-1 div.sk-toggleable__content {max-height: 0;max-width: 0;overflow: hidden;text-align: left;background-color: #f0f8ff;}#sk-container-id-1 div.sk-toggleable__content pre {margin: 0.2em;color: black;border-radius: 0.25em;background-color: #f0f8ff;}#sk-container-id-1 input.sk-toggleable__control:checked~div.sk-toggleable__content {max-height: 200px;max-width: 100%;overflow: auto;}#sk-container-id-1 input.sk-toggleable__control:checked~label.sk-toggleable__label-arrow:before {content: \"▾\";}#sk-container-id-1 div.sk-estimator input.sk-toggleable__control:checked~label.sk-toggleable__label {background-color: #d4ebff;}#sk-container-id-1 div.sk-label input.sk-toggleable__control:checked~label.sk-toggleable__label {background-color: #d4ebff;}#sk-container-id-1 input.sk-hidden--visually {border: 0;clip: rect(1px 1px 1px 1px);clip: rect(1px, 1px, 1px, 1px);height: 1px;margin: -1px;overflow: hidden;padding: 0;position: absolute;width: 1px;}#sk-container-id-1 div.sk-estimator {font-family: monospace;background-color: #f0f8ff;border: 1px dotted black;border-radius: 0.25em;box-sizing: border-box;margin-bottom: 0.5em;}#sk-container-id-1 div.sk-estimator:hover {background-color: #d4ebff;}#sk-container-id-1 div.sk-parallel-item::after {content: \"\";width: 100%;border-bottom: 1px solid gray;flex-grow: 1;}#sk-container-id-1 div.sk-label:hover label.sk-toggleable__label {background-color: #d4ebff;}#sk-container-id-1 div.sk-serial::before {content: \"\";position: absolute;border-left: 1px solid gray;box-sizing: border-box;top: 0;bottom: 0;left: 50%;z-index: 0;}#sk-container-id-1 div.sk-serial {display: flex;flex-direction: column;align-items: center;background-color: white;padding-right: 0.2em;padding-left: 0.2em;position: relative;}#sk-container-id-1 div.sk-item {position: relative;z-index: 1;}#sk-container-id-1 div.sk-parallel {display: flex;align-items: stretch;justify-content: center;background-color: white;position: relative;}#sk-container-id-1 div.sk-item::before, #sk-container-id-1 div.sk-parallel-item::before {content: \"\";position: absolute;border-left: 1px solid gray;box-sizing: border-box;top: 0;bottom: 0;left: 50%;z-index: -1;}#sk-container-id-1 div.sk-parallel-item {display: flex;flex-direction: column;z-index: 1;position: relative;background-color: white;}#sk-container-id-1 div.sk-parallel-item:first-child::after {align-self: flex-end;width: 50%;}#sk-container-id-1 div.sk-parallel-item:last-child::after {align-self: flex-start;width: 50%;}#sk-container-id-1 div.sk-parallel-item:only-child::after {width: 0;}#sk-container-id-1 div.sk-dashed-wrapped {border: 1px dashed gray;margin: 0 0.4em 0.5em 0.4em;box-sizing: border-box;padding-bottom: 0.4em;background-color: white;}#sk-container-id-1 div.sk-label label {font-family: monospace;font-weight: bold;display: inline-block;line-height: 1.2em;}#sk-container-id-1 div.sk-label-container {text-align: center;}#sk-container-id-1 div.sk-container {/* jupyter's `normalize.less` sets `[hidden] { display: none; }` but bootstrap.min.css set `[hidden] { display: none !important; }` so we also need the `!important` here to be able to override the default hidden behavior on the sphinx rendered scikit-learn.org. See: https://github.com/scikit-learn/scikit-learn/issues/21755 */display: inline-block !important;position: relative;}#sk-container-id-1 div.sk-text-repr-fallback {display: none;}</style><div id=\"sk-container-id-1\" class=\"sk-top-container\"><div class=\"sk-text-repr-fallback\"><pre>DecisionTreeClassifier()</pre><b>In a Jupyter environment, please rerun this cell to show the HTML representation or trust the notebook. <br />On GitHub, the HTML representation is unable to render, please try loading this page with nbviewer.org.</b></div><div class=\"sk-container\" hidden><div class=\"sk-item\"><div class=\"sk-estimator sk-toggleable\"><input class=\"sk-toggleable__control sk-hidden--visually\" id=\"sk-estimator-id-1\" type=\"checkbox\" checked><label for=\"sk-estimator-id-1\" class=\"sk-toggleable__label sk-toggleable__label-arrow\">DecisionTreeClassifier</label><div class=\"sk-toggleable__content\"><pre>DecisionTreeClassifier()</pre></div></div></div></div></div>"
      ],
      "text/plain": [
       "DecisionTreeClassifier()"
      ]
     },
     "execution_count": 20,
     "metadata": {},
     "output_type": "execute_result"
    }
   ],
   "source": [
    "clf1.fit(df1.iloc[:,0:2],df1.iloc[:,-1])\n",
    "clf2.fit(df2.iloc[:,0:2],df2.iloc[:,-1])\n",
    "clf3.fit(df3.iloc[:,0:2],df3.iloc[:,-1])"
   ]
  },
  {
   "cell_type": "code",
   "execution_count": 21,
   "id": "78b3fb04",
   "metadata": {},
   "outputs": [],
   "source": [
    "from sklearn.tree import plot_tree"
   ]
  },
  {
   "cell_type": "code",
   "execution_count": 22,
   "id": "29808056",
   "metadata": {},
   "outputs": [
    {
     "data": {
      "text/plain": [
       "[Text(0.6333333333333333, 0.9375, 'x[0] <= 0.809\\ngini = 0.499\\nsamples = 50\\nvalue = [24, 26]'),\n",
       " Text(0.4, 0.8125, 'x[1] <= 2.346\\ngini = 0.337\\nsamples = 28\\nvalue = [22, 6]'),\n",
       " Text(0.26666666666666666, 0.6875, 'x[1] <= 1.517\\ngini = 0.219\\nsamples = 24\\nvalue = [21, 3]'),\n",
       " Text(0.2, 0.5625, 'x[1] <= 1.293\\ngini = 0.305\\nsamples = 16\\nvalue = [13, 3]'),\n",
       " Text(0.13333333333333333, 0.4375, 'x[1] <= 0.526\\ngini = 0.231\\nsamples = 15\\nvalue = [13, 2]'),\n",
       " Text(0.06666666666666667, 0.3125, 'gini = 0.0\\nsamples = 7\\nvalue = [7, 0]'),\n",
       " Text(0.2, 0.3125, 'x[0] <= -0.617\\ngini = 0.375\\nsamples = 8\\nvalue = [6, 2]'),\n",
       " Text(0.13333333333333333, 0.1875, 'x[0] <= -2.851\\ngini = 0.444\\nsamples = 3\\nvalue = [1, 2]'),\n",
       " Text(0.06666666666666667, 0.0625, 'gini = 0.0\\nsamples = 1\\nvalue = [1, 0]'),\n",
       " Text(0.2, 0.0625, 'gini = 0.0\\nsamples = 2\\nvalue = [0, 2]'),\n",
       " Text(0.26666666666666666, 0.1875, 'gini = 0.0\\nsamples = 5\\nvalue = [5, 0]'),\n",
       " Text(0.26666666666666666, 0.4375, 'gini = 0.0\\nsamples = 1\\nvalue = [0, 1]'),\n",
       " Text(0.3333333333333333, 0.5625, 'gini = 0.0\\nsamples = 8\\nvalue = [8, 0]'),\n",
       " Text(0.5333333333333333, 0.6875, 'x[0] <= -0.937\\ngini = 0.375\\nsamples = 4\\nvalue = [1, 3]'),\n",
       " Text(0.4666666666666667, 0.5625, 'gini = 0.0\\nsamples = 1\\nvalue = [1, 0]'),\n",
       " Text(0.6, 0.5625, 'gini = 0.0\\nsamples = 3\\nvalue = [0, 3]'),\n",
       " Text(0.8666666666666667, 0.8125, 'x[1] <= 2.452\\ngini = 0.165\\nsamples = 22\\nvalue = [2, 20]'),\n",
       " Text(0.8, 0.6875, 'x[0] <= 1.654\\ngini = 0.091\\nsamples = 21\\nvalue = [1, 20]'),\n",
       " Text(0.7333333333333333, 0.5625, 'x[0] <= 1.38\\ngini = 0.219\\nsamples = 8\\nvalue = [1, 7]'),\n",
       " Text(0.6666666666666666, 0.4375, 'gini = 0.0\\nsamples = 7\\nvalue = [0, 7]'),\n",
       " Text(0.8, 0.4375, 'gini = 0.0\\nsamples = 1\\nvalue = [1, 0]'),\n",
       " Text(0.8666666666666667, 0.5625, 'gini = 0.0\\nsamples = 13\\nvalue = [0, 13]'),\n",
       " Text(0.9333333333333333, 0.6875, 'gini = 0.0\\nsamples = 1\\nvalue = [1, 0]')]"
      ]
     },
     "execution_count": 22,
     "metadata": {},
     "output_type": "execute_result"
    },
    {
     "data": {
      "image/png": "[encoded data removed]",
      "text/plain": [
       "<Figure size 640x480 with 1 Axes>"
      ]
     },
     "metadata": {},
     "output_type": "display_data"
    }
   ],
   "source": [
    "plot_tree(clf1)"
   ]
  },
  {
   "cell_type": "code",
   "execution_count": 23,
   "id": "d4b5beb0",
   "metadata": {},
   "outputs": [
    {
     "data": {
      "text/plain": [
       "[Text(0.7272727272727273, 0.9375, 'x[1] <= 1.03\\ngini = 0.497\\nsamples = 50\\nvalue = [23, 27]'),\n",
       " Text(0.6363636363636364, 0.8125, 'x[0] <= 0.964\\ngini = 0.394\\nsamples = 37\\nvalue = [10, 27]'),\n",
       " Text(0.5454545454545454, 0.6875, 'x[0] <= -0.43\\ngini = 0.473\\nsamples = 26\\nvalue = [10, 16]'),\n",
       " Text(0.2727272727272727, 0.5625, 'x[1] <= -0.742\\ngini = 0.388\\nsamples = 19\\nvalue = [5, 14]'),\n",
       " Text(0.18181818181818182, 0.4375, 'gini = 0.0\\nsamples = 7\\nvalue = [0, 7]'),\n",
       " Text(0.36363636363636365, 0.4375, 'x[1] <= 0.309\\ngini = 0.486\\nsamples = 12\\nvalue = [5, 7]'),\n",
       " Text(0.2727272727272727, 0.3125, 'x[1] <= 0.015\\ngini = 0.469\\nsamples = 8\\nvalue = [5, 3]'),\n",
       " Text(0.18181818181818182, 0.1875, 'x[1] <= -0.478\\ngini = 0.48\\nsamples = 5\\nvalue = [2, 3]'),\n",
       " Text(0.09090909090909091, 0.0625, 'gini = 0.0\\nsamples = 2\\nvalue = [2, 0]'),\n",
       " Text(0.2727272727272727, 0.0625, 'gini = 0.0\\nsamples = 3\\nvalue = [0, 3]'),\n",
       " Text(0.36363636363636365, 0.1875, 'gini = 0.0\\nsamples = 3\\nvalue = [3, 0]'),\n",
       " Text(0.45454545454545453, 0.3125, 'gini = 0.0\\nsamples = 4\\nvalue = [0, 4]'),\n",
       " Text(0.8181818181818182, 0.5625, 'x[1] <= -0.142\\ngini = 0.408\\nsamples = 7\\nvalue = [5, 2]'),\n",
       " Text(0.7272727272727273, 0.4375, 'x[1] <= -1.544\\ngini = 0.444\\nsamples = 3\\nvalue = [1, 2]'),\n",
       " Text(0.6363636363636364, 0.3125, 'gini = 0.0\\nsamples = 1\\nvalue = [1, 0]'),\n",
       " Text(0.8181818181818182, 0.3125, 'gini = 0.0\\nsamples = 2\\nvalue = [0, 2]'),\n",
       " Text(0.9090909090909091, 0.4375, 'gini = 0.0\\nsamples = 4\\nvalue = [4, 0]'),\n",
       " Text(0.7272727272727273, 0.6875, 'gini = 0.0\\nsamples = 11\\nvalue = [0, 11]'),\n",
       " Text(0.8181818181818182, 0.8125, 'gini = 0.0\\nsamples = 13\\nvalue = [13, 0]')]"
      ]
     },
     "execution_count": 23,
     "metadata": {},
     "output_type": "execute_result"
    },
    {
     "data": {
      "image/png": "[encoded data removed]",
      "text/plain": [
       "<Figure size 640x480 with 1 Axes>"
      ]
     },
     "metadata": {},
     "output_type": "display_data"
    }
   ],
   "source": [
    "plot_tree(clf2)"
   ]
  },
  {
   "cell_type": "code",
   "execution_count": 24,
   "id": "e9e33e89",
   "metadata": {},
   "outputs": [
    {
     "data": {
      "text/plain": [
       "[Text(0.5, 0.9285714285714286, 'x[1] <= 0.811\\ngini = 0.5\\nsamples = 50\\nvalue = [25, 25]'),\n",
       " Text(0.25, 0.7857142857142857, 'x[0] <= 2.848\\ngini = 0.211\\nsamples = 25\\nvalue = [22, 3]'),\n",
       " Text(0.16666666666666666, 0.6428571428571429, 'x[0] <= 0.923\\ngini = 0.153\\nsamples = 24\\nvalue = [22, 2]'),\n",
       " Text(0.08333333333333333, 0.5, 'gini = 0.0\\nsamples = 11\\nvalue = [11, 0]'),\n",
       " Text(0.25, 0.5, 'x[0] <= 1.026\\ngini = 0.26\\nsamples = 13\\nvalue = [11, 2]'),\n",
       " Text(0.16666666666666666, 0.35714285714285715, 'gini = 0.0\\nsamples = 1\\nvalue = [0, 1]'),\n",
       " Text(0.3333333333333333, 0.35714285714285715, 'x[1] <= -0.188\\ngini = 0.153\\nsamples = 12\\nvalue = [11, 1]'),\n",
       " Text(0.25, 0.21428571428571427, 'gini = 0.0\\nsamples = 8\\nvalue = [8, 0]'),\n",
       " Text(0.4166666666666667, 0.21428571428571427, 'x[1] <= 0.097\\ngini = 0.375\\nsamples = 4\\nvalue = [3, 1]'),\n",
       " Text(0.3333333333333333, 0.07142857142857142, 'gini = 0.0\\nsamples = 1\\nvalue = [0, 1]'),\n",
       " Text(0.5, 0.07142857142857142, 'gini = 0.0\\nsamples = 3\\nvalue = [3, 0]'),\n",
       " Text(0.3333333333333333, 0.6428571428571429, 'gini = 0.0\\nsamples = 1\\nvalue = [0, 1]'),\n",
       " Text(0.75, 0.7857142857142857, 'x[0] <= -0.373\\ngini = 0.211\\nsamples = 25\\nvalue = [3, 22]'),\n",
       " Text(0.6666666666666666, 0.6428571428571429, 'gini = 0.0\\nsamples = 1\\nvalue = [1, 0]'),\n",
       " Text(0.8333333333333334, 0.6428571428571429, 'x[1] <= 2.057\\ngini = 0.153\\nsamples = 24\\nvalue = [2, 22]'),\n",
       " Text(0.75, 0.5, 'x[1] <= 1.874\\ngini = 0.298\\nsamples = 11\\nvalue = [2, 9]'),\n",
       " Text(0.6666666666666666, 0.35714285714285715, 'x[1] <= 1.4\\ngini = 0.18\\nsamples = 10\\nvalue = [1, 9]'),\n",
       " Text(0.5833333333333334, 0.21428571428571427, 'gini = 0.0\\nsamples = 6\\nvalue = [0, 6]'),\n",
       " Text(0.75, 0.21428571428571427, 'x[1] <= 1.496\\ngini = 0.375\\nsamples = 4\\nvalue = [1, 3]'),\n",
       " Text(0.6666666666666666, 0.07142857142857142, 'gini = 0.0\\nsamples = 1\\nvalue = [1, 0]'),\n",
       " Text(0.8333333333333334, 0.07142857142857142, 'gini = 0.0\\nsamples = 3\\nvalue = [0, 3]'),\n",
       " Text(0.8333333333333334, 0.35714285714285715, 'gini = 0.0\\nsamples = 1\\nvalue = [1, 0]'),\n",
       " Text(0.9166666666666666, 0.5, 'gini = 0.0\\nsamples = 13\\nvalue = [0, 13]')]"
      ]
     },
     "execution_count": 24,
     "metadata": {},
     "output_type": "execute_result"
    },
    {
     "data": {
      "image/png": "[encoded data removed]",
      "text/plain": [
       "<Figure size 640x480 with 1 Axes>"
      ]
     },
     "metadata": {},
     "output_type": "display_data"
    }
   ],
   "source": [
    "plot_tree(clf3)"
   ]
  },
  {
   "cell_type": "code",
   "execution_count": 25,
   "id": "4145f5ca",
   "metadata": {},
   "outputs": [
    {
     "name": "stderr",
     "output_type": "stream",
     "text": [
      "C:\\Users\\HP\\anaconda3\\anaconda\\Lib\\site-packages\\sklearn\\base.py:464: UserWarning: X does not have valid feature names, but DecisionTreeClassifier was fitted with feature names\n",
      "  warnings.warn(\n"
     ]
    },
    {
     "data": {
      "text/plain": [
       "array([0])"
      ]
     },
     "execution_count": 25,
     "metadata": {},
     "output_type": "execute_result"
    }
   ],
   "source": [
    "clf1.predict(np.array([-1.042498,-0.064323]).reshape(1,2))"
   ]
  },
  {
   "cell_type": "code",
   "execution_count": 26,
   "id": "df598ab8",
   "metadata": {},
   "outputs": [
    {
     "name": "stderr",
     "output_type": "stream",
     "text": [
      "C:\\Users\\HP\\anaconda3\\anaconda\\Lib\\site-packages\\sklearn\\base.py:464: UserWarning: X does not have valid feature names, but DecisionTreeClassifier was fitted with feature names\n",
      "  warnings.warn(\n"
     ]
    },
    {
     "data": {
      "text/plain": [
       "array([1])"
      ]
     },
     "execution_count": 26,
     "metadata": {},
     "output_type": "execute_result"
    }
   ],
   "source": [
    "clf2.predict(np.array([-1.042498,-0.064323]).reshape(1,2))"
   ]
  },
  {
   "cell_type": "code",
   "execution_count": 28,
   "id": "b33194d5",
   "metadata": {},
   "outputs": [
    {
     "name": "stderr",
     "output_type": "stream",
     "text": [
      "C:\\Users\\HP\\anaconda3\\anaconda\\Lib\\site-packages\\sklearn\\base.py:464: UserWarning: X does not have valid feature names, but DecisionTreeClassifier was fitted with feature names\n",
      "  warnings.warn(\n"
     ]
    },
    {
     "data": {
      "text/plain": [
       "array([0])"
      ]
     },
     "execution_count": 28,
     "metadata": {},
     "output_type": "execute_result"
    }
   ],
   "source": [
    "clf3.predict(np.array([-1.042498,-0.064323]).reshape(1,2))"
   ]
  },
  {
   "cell_type": "code",
   "execution_count": null,
   "id": "b90b8555",
   "metadata": {},
   "outputs": [],
   "source": []
  }
 ],
 "metadata": {
  "kernelspec": {
   "display_name": "Python 3 (ipykernel)",
   "language": "python",
   "name": "python3"
  },
  "language_info": {
   "codemirror_mode": {
    "name": "ipython",
    "version": 3
   },
   "file_extension": ".py",
   "mimetype": "text/x-python",
   "name": "python",
   "nbconvert_exporter": "python",
   "pygments_lexer": "ipython3",
   "version": "3.11.4"
  }
 },
 "nbformat": 4,
 "nbformat_minor": 5
}
