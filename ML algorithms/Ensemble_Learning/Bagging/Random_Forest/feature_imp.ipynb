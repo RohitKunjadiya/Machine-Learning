{
 "cells": [
  {
   "cell_type": "code",
   "execution_count": 5,
   "id": "0b19791c",
   "metadata": {},
   "outputs": [],
   "source": [
    "import pandas as pd\n",
    "import seaborn as sns"
   ]
  },
  {
   "cell_type": "code",
   "execution_count": 6,
   "id": "0d6251f6",
   "metadata": {},
   "outputs": [],
   "source": [
    "df = pd.read_csv('train_mnist.csv')"
   ]
  },
  {
   "cell_type": "code",
   "execution_count": 7,
   "id": "1722bf5a",
   "metadata": {},
   "outputs": [
    {
     "data": {
      "text/plain": [
       "(40000, 785)"
      ]
     },
     "execution_count": 7,
     "metadata": {},
     "output_type": "execute_result"
    }
   ],
   "source": [
    "df.shape"
   ]
  },
  {
   "cell_type": "code",
   "execution_count": 4,
   "id": "875baae5",
   "metadata": {},
   "outputs": [],
   "source": [
    "X = df.iloc[:,1:]\n",
    "y = df.iloc[:,0]"
   ]
  },
  {
   "cell_type": "code",
   "execution_count": 5,
   "id": "b499c4f1",
   "metadata": {},
   "outputs": [
    {
     "data": {
      "text/plain": [
       "<Axes: >"
      ]
     },
     "execution_count": 5,
     "metadata": {},
     "output_type": "execute_result"
    },
    {
     "data": {
      "image/png": "[encoded data removed]",
      "text/plain": [
       "<Figure size 640x480 with 2 Axes>"
      ]
     },
     "metadata": {},
     "output_type": "display_data"
    }
   ],
   "source": [
    "sns.heatmap(X.iloc[5].values.reshape(28,28))"
   ]
  },
  {
   "cell_type": "code",
   "execution_count": 7,
   "id": "079dc5af",
   "metadata": {},
   "outputs": [
    {
     "data": {
      "text/html": [
       "<style>#sk-container-id-1 {color: black;}#sk-container-id-1 pre{padding: 0;}#sk-container-id-1 div.sk-toggleable {background-color: white;}#sk-container-id-1 label.sk-toggleable__label {cursor: pointer;display: block;width: 100%;margin-bottom: 0;padding: 0.3em;box-sizing: border-box;text-align: center;}#sk-container-id-1 label.sk-toggleable__label-arrow:before {content: \"▸\";float: left;margin-right: 0.25em;color: #696969;}#sk-container-id-1 label.sk-toggleable__label-arrow:hover:before {color: black;}#sk-container-id-1 div.sk-estimator:hover label.sk-toggleable__label-arrow:before {color: black;}#sk-container-id-1 div.sk-toggleable__content {max-height: 0;max-width: 0;overflow: hidden;text-align: left;background-color: #f0f8ff;}#sk-container-id-1 div.sk-toggleable__content pre {margin: 0.2em;color: black;border-radius: 0.25em;background-color: #f0f8ff;}#sk-container-id-1 input.sk-toggleable__control:checked~div.sk-toggleable__content {max-height: 200px;max-width: 100%;overflow: auto;}#sk-container-id-1 input.sk-toggleable__control:checked~label.sk-toggleable__label-arrow:before {content: \"▾\";}#sk-container-id-1 div.sk-estimator input.sk-toggleable__control:checked~label.sk-toggleable__label {background-color: #d4ebff;}#sk-container-id-1 div.sk-label input.sk-toggleable__control:checked~label.sk-toggleable__label {background-color: #d4ebff;}#sk-container-id-1 input.sk-hidden--visually {border: 0;clip: rect(1px 1px 1px 1px);clip: rect(1px, 1px, 1px, 1px);height: 1px;margin: -1px;overflow: hidden;padding: 0;position: absolute;width: 1px;}#sk-container-id-1 div.sk-estimator {font-family: monospace;background-color: #f0f8ff;border: 1px dotted black;border-radius: 0.25em;box-sizing: border-box;margin-bottom: 0.5em;}#sk-container-id-1 div.sk-estimator:hover {background-color: #d4ebff;}#sk-container-id-1 div.sk-parallel-item::after {content: \"\";width: 100%;border-bottom: 1px solid gray;flex-grow: 1;}#sk-container-id-1 div.sk-label:hover label.sk-toggleable__label {background-color: #d4ebff;}#sk-container-id-1 div.sk-serial::before {content: \"\";position: absolute;border-left: 1px solid gray;box-sizing: border-box;top: 0;bottom: 0;left: 50%;z-index: 0;}#sk-container-id-1 div.sk-serial {display: flex;flex-direction: column;align-items: center;background-color: white;padding-right: 0.2em;padding-left: 0.2em;position: relative;}#sk-container-id-1 div.sk-item {position: relative;z-index: 1;}#sk-container-id-1 div.sk-parallel {display: flex;align-items: stretch;justify-content: center;background-color: white;position: relative;}#sk-container-id-1 div.sk-item::before, #sk-container-id-1 div.sk-parallel-item::before {content: \"\";position: absolute;border-left: 1px solid gray;box-sizing: border-box;top: 0;bottom: 0;left: 50%;z-index: -1;}#sk-container-id-1 div.sk-parallel-item {display: flex;flex-direction: column;z-index: 1;position: relative;background-color: white;}#sk-container-id-1 div.sk-parallel-item:first-child::after {align-self: flex-end;width: 50%;}#sk-container-id-1 div.sk-parallel-item:last-child::after {align-self: flex-start;width: 50%;}#sk-container-id-1 div.sk-parallel-item:only-child::after {width: 0;}#sk-container-id-1 div.sk-dashed-wrapped {border: 1px dashed gray;margin: 0 0.4em 0.5em 0.4em;box-sizing: border-box;padding-bottom: 0.4em;background-color: white;}#sk-container-id-1 div.sk-label label {font-family: monospace;font-weight: bold;display: inline-block;line-height: 1.2em;}#sk-container-id-1 div.sk-label-container {text-align: center;}#sk-container-id-1 div.sk-container {/* jupyter's `normalize.less` sets `[hidden] { display: none; }` but bootstrap.min.css set `[hidden] { display: none !important; }` so we also need the `!important` here to be able to override the default hidden behavior on the sphinx rendered scikit-learn.org. See: https://github.com/scikit-learn/scikit-learn/issues/21755 */display: inline-block !important;position: relative;}#sk-container-id-1 div.sk-text-repr-fallback {display: none;}</style><div id=\"sk-container-id-1\" class=\"sk-top-container\"><div class=\"sk-text-repr-fallback\"><pre>RandomForestClassifier()</pre><b>In a Jupyter environment, please rerun this cell to show the HTML representation or trust the notebook. <br />On GitHub, the HTML representation is unable to render, please try loading this page with nbviewer.org.</b></div><div class=\"sk-container\" hidden><div class=\"sk-item\"><div class=\"sk-estimator sk-toggleable\"><input class=\"sk-toggleable__control sk-hidden--visually\" id=\"sk-estimator-id-1\" type=\"checkbox\" checked><label for=\"sk-estimator-id-1\" class=\"sk-toggleable__label sk-toggleable__label-arrow\">RandomForestClassifier</label><div class=\"sk-toggleable__content\"><pre>RandomForestClassifier()</pre></div></div></div></div></div>"
      ],
      "text/plain": [
       "RandomForestClassifier()"
      ]
     },
     "execution_count": 7,
     "metadata": {},
     "output_type": "execute_result"
    }
   ],
   "source": [
    "from sklearn.ensemble import RandomForestClassifier\n",
    "\n",
    "rf = RandomForestClassifier()\n",
    "\n",
    "rf.fit(X,y)"
   ]
  },
  {
   "cell_type": "code",
   "execution_count": 8,
   "id": "641d3d3d",
   "metadata": {},
   "outputs": [
    {
     "data": {
      "text/plain": [
       "array([0.00000000e+00, 0.00000000e+00, 0.00000000e+00, 0.00000000e+00,\n",
       "       0.00000000e+00, 0.00000000e+00, 0.00000000e+00, 0.00000000e+00,\n",
       "       0.00000000e+00, 0.00000000e+00, 0.00000000e+00, 0.00000000e+00,\n",
       "       2.46983488e-07, 1.07988812e-06, 0.00000000e+00, 0.00000000e+00,\n",
       "       0.00000000e+00, 0.00000000e+00, 0.00000000e+00, 0.00000000e+00,\n",
       "       0.00000000e+00, 0.00000000e+00, 0.00000000e+00, 0.00000000e+00,\n",
       "       0.00000000e+00, 0.00000000e+00, 0.00000000e+00, 0.00000000e+00,\n",
       "       0.00000000e+00, 0.00000000e+00, 0.00000000e+00, 0.00000000e+00,\n",
       "       0.00000000e+00, 0.00000000e+00, 1.09830248e-06, 7.22385659e-07,\n",
       "       2.58502034e-06, 2.09983328e-06, 1.03251576e-06, 5.00965840e-06,\n",
       "       2.60041408e-06, 1.59361980e-06, 4.16821985e-06, 3.21382853e-06,\n",
       "       5.01365061e-06, 4.47825754e-06, 0.00000000e+00, 1.35191157e-06,\n",
       "       1.07020916e-06, 0.00000000e+00, 1.80192743e-06, 7.21471866e-07,\n",
       "       0.00000000e+00, 0.00000000e+00, 0.00000000e+00, 0.00000000e+00,\n",
       "       0.00000000e+00, 0.00000000e+00, 0.00000000e+00, 0.00000000e+00,\n",
       "       0.00000000e+00, 3.63677681e-07, 6.17473384e-07, 1.41055135e-05,\n",
       "       1.24990653e-05, 2.36771765e-05, 3.89318444e-05, 1.79177927e-04,\n",
       "       1.35522496e-04, 1.68110775e-04, 2.78946146e-04, 1.94592847e-04,\n",
       "       1.79488080e-04, 6.06107640e-05, 9.33662111e-05, 2.59671900e-05,\n",
       "       3.50487012e-05, 1.73184579e-05, 4.57770896e-06, 2.15905046e-06,\n",
       "       2.62967010e-06, 7.10171425e-07, 0.00000000e+00, 0.00000000e+00,\n",
       "       0.00000000e+00, 0.00000000e+00, 0.00000000e+00, 3.08753583e-07,\n",
       "       0.00000000e+00, 1.39542166e-06, 1.14148376e-05, 3.84978655e-05,\n",
       "       9.26685942e-05, 1.13017369e-04, 2.22906823e-04, 4.17288133e-04,\n",
       "       1.08517238e-03, 4.41606021e-04, 9.86820477e-04, 2.36550921e-03,\n",
       "       1.25240142e-03, 1.48020213e-03, 9.71004779e-04, 1.02365648e-03,\n",
       "       3.20818568e-04, 1.29223470e-04, 4.43906769e-05, 3.04674940e-05,\n",
       "       1.60751665e-05, 5.53812634e-06, 9.93048926e-07, 0.00000000e+00,\n",
       "       0.00000000e+00, 0.00000000e+00, 0.00000000e+00, 1.49018653e-06,\n",
       "       4.33130940e-06, 1.37845926e-05, 3.02810026e-05, 8.83262448e-05,\n",
       "       1.43817825e-04, 3.96164628e-04, 4.47186112e-04, 1.09396394e-03,\n",
       "       1.26778138e-03, 2.23564203e-03, 1.74591698e-03, 2.10609362e-03,\n",
       "       1.34519606e-03, 8.37215708e-04, 9.01205774e-04, 6.23798047e-04,\n",
       "       4.06360729e-04, 2.30327780e-04, 1.24206379e-04, 9.39040484e-05,\n",
       "       2.83481337e-05, 9.79848187e-06, 2.81316599e-06, 3.51108994e-07,\n",
       "       0.00000000e+00, 0.00000000e+00, 0.00000000e+00, 5.06394099e-06,\n",
       "       1.27376934e-05, 5.04927885e-05, 1.14161815e-04, 2.19233084e-04,\n",
       "       6.68492762e-04, 9.65548623e-04, 2.12388169e-03, 2.65022072e-03,\n",
       "       2.87760940e-03, 5.04770038e-03, 4.87846963e-03, 8.38081609e-03,\n",
       "       6.12694845e-03, 3.07589676e-03, 1.88190589e-03, 1.31703706e-03,\n",
       "       8.74508186e-04, 8.39172922e-04, 4.99722345e-04, 2.68992937e-04,\n",
       "       1.03938397e-04, 2.80399807e-05, 3.35038560e-06, 0.00000000e+00,\n",
       "       0.00000000e+00, 3.53886280e-07, 3.08248590e-06, 8.93209581e-06,\n",
       "       2.88033147e-05, 1.10654593e-04, 2.24732490e-04, 4.88813374e-04,\n",
       "       1.01775787e-03, 2.95743086e-03, 2.90387129e-03, 2.21665754e-03,\n",
       "       2.08687059e-03, 3.01747812e-03, 3.38886926e-03, 3.97262371e-03,\n",
       "       2.82299407e-03, 2.88759790e-03, 2.12867764e-03, 1.53126259e-03,\n",
       "       1.63535568e-03, 1.19815137e-03, 1.13296395e-03, 6.85756129e-04,\n",
       "       2.99501160e-04, 6.74887027e-05, 1.04923627e-05, 1.82840794e-06,\n",
       "       0.00000000e+00, 4.32262128e-07, 2.86892002e-06, 1.39987637e-05,\n",
       "       6.73970953e-05, 1.49402643e-04, 3.57768535e-04, 6.02122810e-04,\n",
       "       1.18717724e-03, 1.62976435e-03, 1.97771098e-03, 1.90719734e-03,\n",
       "       2.79877190e-03, 4.10625534e-03, 5.92811064e-03, 5.78514494e-03,\n",
       "       4.95233369e-03, 3.10951020e-03, 2.74686735e-03, 2.35563574e-03,\n",
       "       2.02896327e-03, 1.65259176e-03, 1.35509069e-03, 1.56301649e-03,\n",
       "       6.94210252e-04, 1.74896473e-04, 1.62731847e-05, 3.23131801e-06,\n",
       "       3.65592292e-07, 3.10821687e-06, 4.86369214e-06, 1.89179749e-05,\n",
       "       7.13310667e-05, 1.84192126e-04, 3.42485877e-04, 7.78063684e-04,\n",
       "       8.67447312e-04, 1.42193887e-03, 2.24951541e-03, 3.00711676e-03,\n",
       "       2.76433924e-03, 4.28976035e-03, 4.73536842e-03, 5.80294218e-03,\n",
       "       4.07215982e-03, 3.16458437e-03, 3.35604814e-03, 3.07091231e-03,\n",
       "       2.13190355e-03, 1.42954049e-03, 1.03181845e-03, 1.14228415e-03,\n",
       "       6.35742134e-04, 2.09392516e-04, 1.93733615e-05, 1.75126198e-06,\n",
       "       0.00000000e+00, 1.41862933e-06, 6.25344024e-06, 3.58892513e-05,\n",
       "       9.72646963e-05, 2.10596797e-04, 4.75809905e-04, 6.11839614e-04,\n",
       "       1.22953874e-03, 1.98594760e-03, 3.72657955e-03, 4.49653204e-03,\n",
       "       3.70817205e-03, 3.27003802e-03, 3.71840818e-03, 3.83370976e-03,\n",
       "       4.09338020e-03, 3.79725495e-03, 4.25383210e-03, 3.96319292e-03,\n",
       "       2.30108883e-03, 2.06794583e-03, 1.13022767e-03, 6.45115216e-04,\n",
       "       4.37512902e-04, 1.33837845e-04, 1.78738137e-05, 1.75707031e-06,\n",
       "       0.00000000e+00, 2.02772400e-06, 7.02154866e-06, 3.00650962e-05,\n",
       "       1.05536364e-04, 2.36204337e-04, 4.56475613e-04, 7.51483105e-04,\n",
       "       1.41623307e-03, 2.75963342e-03, 4.90085422e-03, 4.28482931e-03,\n",
       "       3.33057416e-03, 2.67040340e-03, 3.71498323e-03, 3.43890545e-03,\n",
       "       3.72949773e-03, 4.02317411e-03, 4.95877333e-03, 3.68442277e-03,\n",
       "       2.93436816e-03, 1.77300431e-03, 9.42500978e-04, 4.70955730e-04,\n",
       "       2.02512244e-04, 7.44733898e-05, 8.34517855e-06, 6.69889200e-07,\n",
       "       0.00000000e+00, 2.30094426e-06, 3.36038064e-06, 1.81354238e-05,\n",
       "       9.27682140e-05, 2.90493486e-04, 5.47576826e-04, 1.25299814e-03,\n",
       "       1.99426765e-03, 3.93757272e-03, 6.11916517e-03, 4.94564762e-03,\n",
       "       4.39694966e-03, 3.44948806e-03, 4.95516897e-03, 4.95687822e-03,\n",
       "       3.32578165e-03, 3.35771144e-03, 4.06706806e-03, 3.07342150e-03,\n",
       "       2.43595707e-03, 1.54010656e-03, 1.34201942e-03, 4.55706404e-04,\n",
       "       1.44892215e-04, 3.09092455e-05, 5.99995595e-06, 1.44191532e-06,\n",
       "       0.00000000e+00, 0.00000000e+00, 4.02659429e-06, 4.07870762e-05,\n",
       "       8.49232623e-05, 3.19932618e-04, 1.09804768e-03, 1.70183831e-03,\n",
       "       3.12588433e-03, 5.27830455e-03, 4.09288774e-03, 5.64125644e-03,\n",
       "       4.36646721e-03, 4.35948126e-03, 9.44550216e-03, 4.30122595e-03,\n",
       "       3.49540610e-03, 4.13142931e-03, 4.86836540e-03, 3.41927634e-03,\n",
       "       1.63084626e-03, 2.10332574e-03, 9.88891794e-04, 1.64004481e-03,\n",
       "       1.22470793e-04, 2.04596778e-05, 6.89047783e-06, 3.42449074e-07,\n",
       "       0.00000000e+00, 0.00000000e+00, 1.87237732e-06, 2.45175933e-05,\n",
       "       8.49634383e-05, 3.12462369e-04, 7.80412238e-04, 1.59570195e-03,\n",
       "       3.13919666e-03, 3.78617432e-03, 6.26476407e-03, 6.47757143e-03,\n",
       "       4.19000226e-03, 8.57270376e-03, 1.15271468e-02, 4.51612426e-03,\n",
       "       4.58270090e-03, 5.96381665e-03, 2.86049101e-03, 1.66377981e-03,\n",
       "       1.57914784e-03, 1.38713312e-03, 3.75664106e-03, 4.90584028e-04,\n",
       "       1.85056318e-04, 2.76851486e-05, 7.05990653e-06, 1.90050680e-06,\n",
       "       0.00000000e+00, 0.00000000e+00, 2.89361204e-06, 2.08899379e-05,\n",
       "       8.10619048e-05, 5.35665477e-04, 1.27006387e-03, 2.91045396e-03,\n",
       "       3.55597410e-03, 5.03059018e-03, 6.10837501e-03, 5.96810060e-03,\n",
       "       3.65127756e-03, 7.84528577e-03, 8.51170327e-03, 4.09450869e-03,\n",
       "       3.19377658e-03, 7.82850478e-03, 3.51429418e-03, 1.59081313e-03,\n",
       "       1.57033281e-03, 2.36367188e-03, 1.26741231e-03, 4.85530906e-04,\n",
       "       2.03071523e-04, 3.83362005e-05, 3.46196401e-06, 1.35033657e-06,\n",
       "       0.00000000e+00, 0.00000000e+00, 2.47294666e-06, 1.59847347e-05,\n",
       "       6.23385537e-05, 5.78263509e-04, 1.16832711e-03, 2.36154086e-03,\n",
       "       3.79915994e-03, 5.91326547e-03, 4.88919483e-03, 4.69844656e-03,\n",
       "       4.29543544e-03, 6.15129963e-03, 4.44104262e-03, 4.47729126e-03,\n",
       "       3.84688040e-03, 6.70684465e-03, 2.48469420e-03, 1.66797750e-03,\n",
       "       1.35622050e-03, 1.38797000e-03, 8.62780953e-04, 5.48977125e-04,\n",
       "       1.46176215e-04, 4.81489480e-05, 1.13801517e-05, 1.43620537e-06,\n",
       "       0.00000000e+00, 6.33160980e-07, 4.92133652e-06, 3.06935836e-05,\n",
       "       1.13535255e-04, 5.46943974e-04, 1.38596108e-03, 3.09043768e-03,\n",
       "       4.17185352e-03, 3.18238473e-03, 4.58363139e-03, 4.55602297e-03,\n",
       "       7.38476062e-03, 7.39198318e-03, 5.45918995e-03, 3.96647433e-03,\n",
       "       3.21600651e-03, 4.37631346e-03, 2.34781133e-03, 2.19740165e-03,\n",
       "       1.57469260e-03, 1.64071839e-03, 6.11792036e-04, 3.59681854e-04,\n",
       "       2.04929397e-04, 4.29172138e-05, 2.42839829e-05, 9.21296743e-07,\n",
       "       0.00000000e+00, 3.31899570e-07, 6.52631219e-06, 2.74194471e-05,\n",
       "       1.61667864e-04, 3.30191119e-04, 1.32633872e-03, 3.10930598e-03,\n",
       "       3.18884404e-03, 3.89586417e-03, 4.53277918e-03, 5.32567905e-03,\n",
       "       6.63112112e-03, 5.26590887e-03, 3.57925978e-03, 2.87309234e-03,\n",
       "       1.95185253e-03, 2.83077096e-03, 2.25403000e-03, 1.99780837e-03,\n",
       "       1.07518226e-03, 8.28507650e-04, 4.90782939e-04, 4.44141079e-04,\n",
       "       2.27317696e-04, 1.15301534e-04, 1.07012370e-05, 3.97981317e-06,\n",
       "       0.00000000e+00, 0.00000000e+00, 5.31935341e-06, 4.85853999e-05,\n",
       "       1.72410541e-04, 6.09152260e-04, 1.33855925e-03, 2.00295278e-03,\n",
       "       2.93611728e-03, 4.39153754e-03, 6.20898911e-03, 5.83707285e-03,\n",
       "       4.73431220e-03, 2.95288393e-03, 2.91818770e-03, 2.11979534e-03,\n",
       "       1.66575907e-03, 2.36863569e-03, 1.92566280e-03, 1.71343779e-03,\n",
       "       1.72463626e-03, 1.12389311e-03, 7.95267227e-04, 3.70952212e-04,\n",
       "       2.31838404e-04, 7.08410248e-05, 6.21109001e-06, 2.46986084e-07,\n",
       "       0.00000000e+00, 5.92796519e-07, 9.90793217e-06, 7.26581211e-05,\n",
       "       2.21653056e-04, 6.41888175e-04, 1.89360486e-03, 2.64265862e-03,\n",
       "       3.71943257e-03, 4.64743835e-03, 7.70611914e-03, 6.52161853e-03,\n",
       "       3.50006630e-03, 1.95647583e-03, 1.68825817e-03, 1.53166137e-03,\n",
       "       1.52971924e-03, 1.72002748e-03, 3.43510797e-03, 1.95864172e-03,\n",
       "       1.15354218e-03, 1.33904144e-03, 6.36603746e-04, 3.66364331e-04,\n",
       "       2.32728401e-04, 3.39536703e-05, 5.51080937e-06, 0.00000000e+00,\n",
       "       0.00000000e+00, 1.39919753e-06, 4.63757227e-06, 8.19896845e-05,\n",
       "       1.73070229e-04, 8.95520205e-04, 1.15781029e-03, 4.41808299e-03,\n",
       "       4.24878840e-03, 4.82013227e-03, 4.89031716e-03, 3.04625344e-03,\n",
       "       2.58954219e-03, 1.97848980e-03, 1.80876401e-03, 1.64878811e-03,\n",
       "       1.32722210e-03, 2.19045638e-03, 2.71967256e-03, 1.94252923e-03,\n",
       "       1.79768353e-03, 6.41333876e-04, 6.06973288e-04, 3.34716550e-04,\n",
       "       1.15186353e-04, 2.34556377e-05, 3.67505735e-06, 0.00000000e+00,\n",
       "       0.00000000e+00, 0.00000000e+00, 6.11823945e-06, 4.98276202e-05,\n",
       "       1.87429134e-04, 4.82857986e-04, 1.15331170e-03, 2.61445206e-03,\n",
       "       5.86817270e-03, 4.75484318e-03, 2.49596705e-03, 1.79073703e-03,\n",
       "       1.49960835e-03, 1.49598553e-03, 1.57007452e-03, 1.17594635e-03,\n",
       "       1.12299916e-03, 1.06417656e-03, 1.18528166e-03, 9.51256320e-04,\n",
       "       7.29056559e-04, 7.01386623e-04, 4.36152294e-04, 1.46400185e-04,\n",
       "       5.72499930e-05, 1.66814758e-05, 1.05574669e-06, 0.00000000e+00,\n",
       "       0.00000000e+00, 0.00000000e+00, 1.55394922e-06, 3.13543411e-05,\n",
       "       1.15054286e-04, 3.63161040e-04, 8.07413790e-04, 1.59047435e-03,\n",
       "       2.21882977e-03, 2.81586746e-03, 3.69908613e-03, 1.69377126e-03,\n",
       "       1.95296229e-03, 1.95100813e-03, 1.63145725e-03, 1.82558703e-03,\n",
       "       1.32253258e-03, 9.00934118e-04, 9.32804919e-04, 7.45139050e-04,\n",
       "       4.25120102e-04, 2.46831802e-04, 1.50604942e-04, 6.59949137e-05,\n",
       "       1.57812610e-05, 8.17254403e-06, 1.59943982e-06, 0.00000000e+00,\n",
       "       0.00000000e+00, 0.00000000e+00, 1.77393739e-06, 1.00626384e-05,\n",
       "       6.70625733e-05, 1.46927733e-04, 5.97253116e-04, 7.95608486e-04,\n",
       "       1.23135720e-03, 1.86871778e-03, 2.74872745e-03, 3.86991822e-03,\n",
       "       4.68464948e-03, 5.25448036e-03, 3.93225875e-03, 2.42659054e-03,\n",
       "       1.71098956e-03, 9.43008347e-04, 6.66420972e-04, 4.10878207e-04,\n",
       "       2.79449013e-04, 1.52084942e-04, 6.61326809e-05, 4.35603039e-05,\n",
       "       1.24830414e-05, 2.29544264e-06, 0.00000000e+00, 0.00000000e+00,\n",
       "       0.00000000e+00, 0.00000000e+00, 1.71893753e-06, 6.80797145e-06,\n",
       "       3.65368962e-05, 1.02965478e-04, 2.04322994e-04, 4.07524312e-04,\n",
       "       7.30658032e-04, 8.95116777e-04, 9.37271900e-04, 1.68164314e-03,\n",
       "       1.12717423e-03, 1.21975740e-03, 1.46593525e-03, 8.68736863e-04,\n",
       "       5.48193969e-04, 6.00368634e-04, 3.34930262e-04, 2.48902139e-04,\n",
       "       1.58747065e-04, 8.34994891e-05, 3.47791017e-05, 2.09114055e-05,\n",
       "       5.05098616e-06, 1.74487738e-06, 0.00000000e+00, 0.00000000e+00,\n",
       "       0.00000000e+00, 0.00000000e+00, 3.64895266e-07, 2.06042509e-06,\n",
       "       1.14536193e-05, 5.17084635e-05, 1.02919780e-04, 3.29084375e-04,\n",
       "       4.37128513e-04, 6.27838852e-04, 9.96154474e-04, 1.26542303e-03,\n",
       "       1.49255561e-03, 8.96413083e-04, 8.22581998e-04, 4.28902454e-04,\n",
       "       3.15865306e-04, 4.59350045e-04, 2.62852459e-04, 2.15469421e-04,\n",
       "       1.34906963e-04, 2.86424637e-05, 2.03363687e-05, 6.63046327e-06,\n",
       "       7.08740890e-07, 0.00000000e+00, 0.00000000e+00, 0.00000000e+00,\n",
       "       0.00000000e+00, 0.00000000e+00, 0.00000000e+00, 0.00000000e+00,\n",
       "       2.88813876e-06, 1.49616629e-05, 1.19793291e-05, 2.21300335e-05,\n",
       "       4.13533231e-05, 2.02751838e-04, 1.11990867e-04, 2.36544198e-04,\n",
       "       3.48169388e-04, 4.39319822e-04, 1.02331523e-04, 1.78681232e-04,\n",
       "       3.11807491e-04, 1.50326436e-04, 8.62292058e-05, 5.54501153e-05,\n",
       "       3.90305963e-05, 1.60879745e-05, 5.13214550e-06, 1.01943737e-06,\n",
       "       0.00000000e+00, 0.00000000e+00, 0.00000000e+00, 0.00000000e+00,\n",
       "       0.00000000e+00, 0.00000000e+00, 0.00000000e+00, 0.00000000e+00,\n",
       "       0.00000000e+00, 0.00000000e+00, 0.00000000e+00, 0.00000000e+00,\n",
       "       1.85251179e-07, 6.83729580e-07, 7.49179871e-06, 4.26564381e-06,\n",
       "       4.16402363e-06, 1.01930844e-06, 9.85178577e-07, 4.24161857e-06,\n",
       "       7.17206788e-06, 5.78301617e-06, 1.71647705e-06, 1.77590840e-06,\n",
       "       6.19937068e-07, 2.51677763e-06, 1.85257993e-07, 3.65283689e-07,\n",
       "       0.00000000e+00, 0.00000000e+00, 0.00000000e+00, 0.00000000e+00])"
      ]
     },
     "execution_count": 8,
     "metadata": {},
     "output_type": "execute_result"
    }
   ],
   "source": [
    "rf.feature_importances_"
   ]
  },
  {
   "cell_type": "code",
   "execution_count": 9,
   "id": "f9afbbc2",
   "metadata": {},
   "outputs": [
    {
     "data": {
      "text/plain": [
       "(784,)"
      ]
     },
     "execution_count": 9,
     "metadata": {},
     "output_type": "execute_result"
    }
   ],
   "source": [
    "rf.feature_importances_.shape"
   ]
  },
  {
   "cell_type": "code",
   "execution_count": 10,
   "id": "2f4a6761",
   "metadata": {},
   "outputs": [
    {
     "data": {
      "text/plain": [
       "<Axes: >"
      ]
     },
     "execution_count": 10,
     "metadata": {},
     "output_type": "execute_result"
    },
    {
     "data": {
      "image/png": "[encoded data removed]",
      "text/plain": [
       "<Figure size 640x480 with 2 Axes>"
      ]
     },
     "metadata": {},
     "output_type": "display_data"
    }
   ],
   "source": [
    "sns.heatmap(rf.feature_importances_.reshape(28,28))"
   ]
  },
  {
   "cell_type": "code",
   "execution_count": null,
   "id": "3c1d1e6f",
   "metadata": {},
   "outputs": [],
   "source": []
  }
 ],
 "metadata": {
  "kernelspec": {
   "display_name": "Python 3 (ipykernel)",
   "language": "python",
   "name": "python3"
  },
  "language_info": {
   "codemirror_mode": {
    "name": "ipython",
    "version": 3
   },
   "file_extension": ".py",
   "mimetype": "text/x-python",
   "name": "python",
   "nbconvert_exporter": "python",
   "pygments_lexer": "ipython3",
   "version": "3.11.4"
  }
 },
 "nbformat": 4,
 "nbformat_minor": 5
}
