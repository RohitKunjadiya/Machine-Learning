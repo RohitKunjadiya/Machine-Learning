{
 "cells": [
  {
   "cell_type": "code",
   "execution_count": 1,
   "id": "ab62e9a2",
   "metadata": {},
   "outputs": [],
   "source": [
    "import numpy as np\n",
    "from sklearn.datasets import make_regression\n",
    "from matplotlib import pyplot as plt\n",
    "from sklearn.metrics import r2_score\n",
    "from sklearn.model_selection import cross_val_score\n",
    "from sklearn.model_selection import train_test_split"
   ]
  },
  {
   "cell_type": "code",
   "execution_count": 2,
   "id": "845c71ec",
   "metadata": {},
   "outputs": [],
   "source": [
    "x,y = make_regression(n_samples=100,n_features=1,n_informative=1,n_targets=1,noise=20)"
   ]
  },
  {
   "cell_type": "code",
   "execution_count": 3,
   "id": "6c20c8a5",
   "metadata": {
    "scrolled": true
   },
   "outputs": [
    {
     "data": {
      "text/plain": [
       "<matplotlib.collections.PathCollection at 0x2589279a680>"
      ]
     },
     "execution_count": 3,
     "metadata": {},
     "output_type": "execute_result"
    },
    {
     "data": {
      "image/png": "[encoded data removed]",
      "text/plain": [
       "<Figure size 640x480 with 1 Axes>"
      ]
     },
     "metadata": {},
     "output_type": "display_data"
    }
   ],
   "source": [
    "plt.scatter(x,y)"
   ]
  },
  {
   "cell_type": "code",
   "execution_count": 4,
   "id": "ada5ea47",
   "metadata": {},
   "outputs": [],
   "source": [
    "x_train,x_test,y_train,y_test = train_test_split(x,y,test_size=0.2,random_state=2)"
   ]
  },
  {
   "cell_type": "code",
   "execution_count": 5,
   "id": "8d31f785",
   "metadata": {},
   "outputs": [
    {
     "name": "stdout",
     "output_type": "stream",
     "text": [
      "[61.32877637]\n",
      "-2.0814521980838467\n"
     ]
    }
   ],
   "source": [
    "from sklearn.linear_model import LinearRegression\n",
    "\n",
    "lr = LinearRegression()\n",
    "\n",
    "lr.fit(x_train,y_train)\n",
    "\n",
    "print(lr.coef_)\n",
    "print(lr.intercept_)"
   ]
  },
  {
   "cell_type": "code",
   "execution_count": 6,
   "id": "5042392e",
   "metadata": {},
   "outputs": [
    {
     "data": {
      "text/plain": [
       "(20, 1)"
      ]
     },
     "execution_count": 6,
     "metadata": {},
     "output_type": "execute_result"
    }
   ],
   "source": [
    "x_test.shape"
   ]
  },
  {
   "cell_type": "code",
   "execution_count": 7,
   "id": "4ba4bc18",
   "metadata": {},
   "outputs": [
    {
     "data": {
      "text/plain": [
       "0.8884420428297317"
      ]
     },
     "execution_count": 7,
     "metadata": {},
     "output_type": "execute_result"
    }
   ],
   "source": [
    "y_pred = lr.predict(x_test)\n",
    "r2_score(y_test,y_pred)"
   ]
  },
  {
   "cell_type": "code",
   "execution_count": 18,
   "id": "ab84dfff",
   "metadata": {},
   "outputs": [],
   "source": [
    "class GDRegressor:\n",
    "    \n",
    "    def __init__(self,learning_rate,epochs):\n",
    "        self.m = 100\n",
    "        self.b = -120\n",
    "        self.lr = learning_rate\n",
    "        self.epochs = epochs\n",
    "        \n",
    "    def fit(self,x,y):\n",
    "        #calculate the b using GD\n",
    "        for i in range(self.epochs):\n",
    "            loss_slope_b = -2 * np.sum(y - self.m*x.ravel() - self.b)\n",
    "            loss_slope_m = -2 * np.sum((y - self.m*x.ravel() - self.b) * x.ravel())\n",
    "    \n",
    "            self.b = self.b - (self.lr*loss_slope_b)\n",
    "            self.m = self.m - (self.lr*loss_slope_m)            \n",
    "        print(self.b,self.m)\n",
    "        \n",
    "    def predict(self,x):\n",
    "        return self.m * x + self.b"
   ]
  },
  {
   "cell_type": "code",
   "execution_count": 19,
   "id": "58f23f22",
   "metadata": {},
   "outputs": [],
   "source": [
    "gd = GDRegressor(0.001,50)"
   ]
  },
  {
   "cell_type": "code",
   "execution_count": 20,
   "id": "48e7b110",
   "metadata": {},
   "outputs": [
    {
     "name": "stdout",
     "output_type": "stream",
     "text": [
      "-2.0995847850408578 61.333728850358334\n"
     ]
    }
   ],
   "source": [
    "gd.fit(x_train,y_train)"
   ]
  },
  {
   "cell_type": "code",
   "execution_count": 21,
   "id": "3b4e18f3",
   "metadata": {},
   "outputs": [],
   "source": [
    "y_pred = gd.predict(x_test)"
   ]
  },
  {
   "cell_type": "code",
   "execution_count": 22,
   "id": "29c7d7d9",
   "metadata": {},
   "outputs": [
    {
     "data": {
      "text/plain": [
       "0.8885349111237265"
      ]
     },
     "execution_count": 22,
     "metadata": {},
     "output_type": "execute_result"
    }
   ],
   "source": [
    "r2_score(y_test,y_pred)"
   ]
  },
  {
   "cell_type": "code",
   "execution_count": null,
   "id": "38335248",
   "metadata": {},
   "outputs": [],
   "source": []
  }
 ],
 "metadata": {
  "kernelspec": {
   "display_name": "Python 3 (ipykernel)",
   "language": "python",
   "name": "python3"
  },
  "language_info": {
   "codemirror_mode": {
    "name": "ipython",
    "version": 3
   },
   "file_extension": ".py",
   "mimetype": "text/x-python",
   "name": "python",
   "nbconvert_exporter": "python",
   "pygments_lexer": "ipython3",
   "version": "3.10.9"
  }
 },
 "nbformat": 4,
 "nbformat_minor": 5
}
