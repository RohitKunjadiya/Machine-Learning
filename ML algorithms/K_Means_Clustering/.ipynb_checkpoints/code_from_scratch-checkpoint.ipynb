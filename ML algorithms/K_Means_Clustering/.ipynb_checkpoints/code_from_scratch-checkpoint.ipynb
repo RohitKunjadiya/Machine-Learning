{
 "cells": [
  {
   "cell_type": "code",
   "execution_count": 1,
   "id": "e299c548",
   "metadata": {},
   "outputs": [],
   "source": [
    "import random \n",
    "import numpy as np\n",
    "import pandas as pd\n",
    "from matplotlib import pyplot as plt\n",
    "import seaborn as sns"
   ]
  },
  {
   "cell_type": "code",
   "execution_count": 2,
   "id": "a7441b10",
   "metadata": {},
   "outputs": [],
   "source": [
    "df = pd.read_csv('student_clustering.csv')"
   ]
  },
  {
   "cell_type": "code",
   "execution_count": 3,
   "id": "02b53203",
   "metadata": {},
   "outputs": [],
   "source": [
    "class KMeans:\n",
    "    \n",
    "    def __init__(self,n_clusters=2,max_iter=100):\n",
    "        self.n_clusters = n_clusters\n",
    "        self.max_iter = max_iter\n",
    "        self.centroids = None\n",
    "        \n",
    "    def fit_predict(self,X):\n",
    "        \n",
    "        random_index = random.sample(range(0,X.shape[0]),self.n_clusters)\n",
    "        self.centroids = X[random_index]\n",
    "        \n",
    "        for i in range(self.max_iter):\n",
    "            \n",
    "            #assign clusters\n",
    "            cluster_group = self.assign_clusters(X)\n",
    "            old_centroids = self.centroids\n",
    "            \n",
    "            #move centroids\n",
    "            self.centroids = self.move_centroids(X,cluster_group)\n",
    "            \n",
    "            #check finish\n",
    "            if (old_centroids == self.centroids).all():\n",
    "                break\n",
    "                \n",
    "        return cluster_group\n",
    "            \n",
    "    def assign_clusters(self,X):\n",
    "        \n",
    "        cluster_group = []            \n",
    "        distances = []\n",
    "        \n",
    "        for row in X:\n",
    "            \n",
    "            for centroid in self.centroids:\n",
    "                \n",
    "                distances.append(np.sqrt(np.dot(row-centroid,row-centroid)))\n",
    "                \n",
    "            min_dis = min(distances)\n",
    "            index_pos = distances.index(min_dis)\n",
    "            cluster_group.append(index_pos)\n",
    "            distances.clear()\n",
    "        \n",
    "        return np.array(cluster_group)\n",
    "    \n",
    "    def move_centroids(self,X,cluster_group):\n",
    "        \n",
    "        new_centroids = []\n",
    "        cluster_type = np.unique(cluster_group)\n",
    "\n",
    "        for ctype in cluster_type:\n",
    "            new_centroids.append(X[cluster_group == ctype].mean(axis=0))\n",
    "            \n",
    "        return np.array(new_centroids)"
   ]
  },
  {
   "cell_type": "code",
   "execution_count": 4,
   "id": "9e1bda47",
   "metadata": {},
   "outputs": [],
   "source": [
    "X = df.iloc[:,:].values"
   ]
  },
  {
   "cell_type": "code",
   "execution_count": 5,
   "id": "d3072467",
   "metadata": {},
   "outputs": [],
   "source": [
    "k = KMeans(n_clusters=4,max_iter=500)"
   ]
  },
  {
   "cell_type": "code",
   "execution_count": 6,
   "id": "91a45479",
   "metadata": {},
   "outputs": [],
   "source": [
    "y_means = k.fit_predict(X)"
   ]
  },
  {
   "cell_type": "code",
   "execution_count": 7,
   "id": "60b918e1",
   "metadata": {},
   "outputs": [
    {
     "data": {
      "image/png": "[encoded data removed]",
      "text/plain": [
       "<Figure size 640x480 with 1 Axes>"
      ]
     },
     "metadata": {},
     "output_type": "display_data"
    }
   ],
   "source": [
    "plt.scatter(X[y_means == 0,0],X[y_means == 0,1],color='red')\n",
    "plt.scatter(X[y_means == 1,0],X[y_means == 1,1],color='blue')\n",
    "plt.scatter(X[y_means == 2,0],X[y_means == 2,1],color='green')\n",
    "plt.scatter(X[y_means == 3,0],X[y_means == 3,1],color='yellow')\n",
    "plt.show()"
   ]
  },
  {
   "cell_type": "code",
   "execution_count": null,
   "id": "f21aa518",
   "metadata": {},
   "outputs": [],
   "source": []
  }
 ],
 "metadata": {
  "kernelspec": {
   "display_name": "Python 3 (ipykernel)",
   "language": "python",
   "name": "python3"
  },
  "language_info": {
   "codemirror_mode": {
    "name": "ipython",
    "version": 3
   },
   "file_extension": ".py",
   "mimetype": "text/x-python",
   "name": "python",
   "nbconvert_exporter": "python",
   "pygments_lexer": "ipython3",
   "version": "3.11.4"
  }
 },
 "nbformat": 4,
 "nbformat_minor": 5
}
