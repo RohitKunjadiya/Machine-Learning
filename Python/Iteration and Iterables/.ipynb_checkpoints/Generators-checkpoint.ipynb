{
 "cells": [
  {
   "cell_type": "code",
   "execution_count": 1,
   "id": "9a99623c",
   "metadata": {},
   "outputs": [],
   "source": [
    "# iterable\n",
    "class mera_range:\n",
    "    \n",
    "    def __init__(self,start,end):\n",
    "        self.start = start\n",
    "        self.end = end\n",
    "        \n",
    "    def __iter__(self):\n",
    "        return mera_iterator(self)\n",
    "    \n",
    "# iterator\n",
    "class mera_iterator:\n",
    "    \n",
    "    def __init__(self,iterable_obj):\n",
    "        self.iterable = iterable_obj\n",
    "    \n",
    "    def __iter__(self):\n",
    "        return self\n",
    "    \n",
    "    def __next__(self):\n",
    "        \n",
    "        if self.iterable.start >= self.iterable.end:\n",
    "            raise StopIteration\n",
    "        \n",
    "        current = self.iterable.start\n",
    "        self.iterable.start+=1\n",
    "        return current"
   ]
  },
  {
   "cell_type": "code",
   "execution_count": 2,
   "id": "9fa0e815",
   "metadata": {},
   "outputs": [
    {
     "data": {
      "text/plain": [
       "48"
      ]
     },
     "execution_count": 2,
     "metadata": {},
     "output_type": "execute_result"
    }
   ],
   "source": [
    "L = [x for x in range(100000)]\n",
    "\n",
    "#for i in L:\n",
    "    #print(i**2)\n",
    "    \n",
    "import sys\n",
    "sys.getsizeof(L)\n",
    "\n",
    "x = range(10000000)\n",
    "\n",
    "#for i in x:\n",
    "    #print(i**2)\n",
    "sys.getsizeof(x)"
   ]
  },
  {
   "cell_type": "markdown",
   "id": "ef7ed9e4",
   "metadata": {},
   "source": [
    "# A Simple Example"
   ]
  },
  {
   "cell_type": "code",
   "execution_count": 3,
   "id": "f45a73a9",
   "metadata": {},
   "outputs": [],
   "source": [
    "def gen_demo():\n",
    "    \n",
    "    yield \"first statement\"\n",
    "    yield \"second statement\"\n",
    "    yield \"third statement\""
   ]
  },
  {
   "cell_type": "code",
   "execution_count": 4,
   "id": "a77af435",
   "metadata": {},
   "outputs": [
    {
     "name": "stdout",
     "output_type": "stream",
     "text": [
      "first statement\n",
      "second statement\n",
      "third statement\n"
     ]
    }
   ],
   "source": [
    "gen = gen_demo()\n",
    "\n",
    "for i in gen:\n",
    "    print(i)"
   ]
  },
  {
   "cell_type": "code",
   "execution_count": 5,
   "id": "1b1c747c",
   "metadata": {},
   "outputs": [
    {
     "name": "stdout",
     "output_type": "stream",
     "text": [
      "1\n",
      "4\n",
      "9\n",
      "16\n",
      "25\n",
      "36\n",
      "49\n",
      "64\n",
      "81\n",
      "100\n"
     ]
    }
   ],
   "source": [
    "def square(num):\n",
    "    for i in range(1,num+1):\n",
    "        yield i**2\n",
    "gen = square(10)\n",
    "\n",
    "print(next(gen))\n",
    "print(next(gen))\n",
    "print(next(gen))\n",
    "\n",
    "for i in gen:\n",
    "    print(i)"
   ]
  },
  {
   "cell_type": "markdown",
   "id": "922d219e",
   "metadata": {},
   "source": [
    "# Range Function using Generator"
   ]
  },
  {
   "cell_type": "code",
   "execution_count": 6,
   "id": "1a80ca5d",
   "metadata": {},
   "outputs": [
    {
     "name": "stdout",
     "output_type": "stream",
     "text": [
      "15\n",
      "16\n",
      "17\n",
      "18\n",
      "19\n",
      "20\n",
      "21\n",
      "22\n",
      "23\n",
      "24\n",
      "25\n"
     ]
    }
   ],
   "source": [
    "def mera_range(start,end):\n",
    "    for i in range(start,end):\n",
    "        yield i\n",
    "        \n",
    "for i in mera_range(15,26):\n",
    "    print(i)"
   ]
  },
  {
   "cell_type": "markdown",
   "id": "4d4a2e9e",
   "metadata": {},
   "source": [
    "# Generator Expression"
   ]
  },
  {
   "cell_type": "code",
   "execution_count": 7,
   "id": "d5579062",
   "metadata": {},
   "outputs": [
    {
     "name": "stdout",
     "output_type": "stream",
     "text": [
      "1\n",
      "4\n",
      "9\n",
      "16\n",
      "25\n",
      "36\n",
      "49\n",
      "64\n",
      "81\n",
      "100\n",
      "121\n",
      "144\n",
      "169\n",
      "196\n",
      "225\n",
      "256\n",
      "289\n",
      "324\n",
      "361\n",
      "400\n",
      "441\n",
      "484\n",
      "529\n",
      "576\n",
      "625\n",
      "676\n",
      "729\n",
      "784\n",
      "841\n",
      "900\n",
      "961\n",
      "1024\n",
      "1089\n",
      "1156\n",
      "1225\n",
      "1296\n",
      "1369\n",
      "1444\n",
      "1521\n",
      "1600\n",
      "1681\n",
      "1764\n",
      "1849\n",
      "1936\n",
      "2025\n",
      "2116\n",
      "2209\n",
      "2304\n",
      "2401\n",
      "2500\n",
      "2601\n",
      "2704\n",
      "2809\n",
      "2916\n",
      "3025\n",
      "3136\n",
      "3249\n",
      "3364\n",
      "3481\n",
      "3600\n",
      "3721\n",
      "3844\n",
      "3969\n",
      "4096\n",
      "4225\n",
      "4356\n",
      "4489\n",
      "4624\n",
      "4761\n",
      "4900\n",
      "5041\n",
      "5184\n",
      "5329\n",
      "5476\n",
      "5625\n",
      "5776\n",
      "5929\n",
      "6084\n",
      "6241\n",
      "6400\n",
      "6561\n",
      "6724\n",
      "6889\n",
      "7056\n",
      "7225\n",
      "7396\n",
      "7569\n",
      "7744\n",
      "7921\n",
      "8100\n",
      "8281\n",
      "8464\n",
      "8649\n",
      "8836\n",
      "9025\n",
      "9216\n",
      "9409\n",
      "9604\n",
      "9801\n",
      "10000\n"
     ]
    }
   ],
   "source": [
    "# list comprehension\n",
    "L = [i**2 for i in range(1,101)]\n",
    "\n",
    "gen = (i**2 for i in range(1,101))\n",
    "\n",
    "for i in gen:\n",
    "    print(i)"
   ]
  },
  {
   "cell_type": "markdown",
   "id": "1560eba1",
   "metadata": {},
   "source": [
    "# Benefits of using a Generator"
   ]
  },
  {
   "cell_type": "markdown",
   "id": "4f12b339",
   "metadata": {},
   "source": [
    "1. Ease of Implementation"
   ]
  },
  {
   "cell_type": "code",
   "execution_count": 8,
   "id": "40aa7dfc",
   "metadata": {},
   "outputs": [],
   "source": [
    "class mera_range:\n",
    "    \n",
    "    def __init__(self,start,end):\n",
    "        self.start = start\n",
    "        self.end = end\n",
    "        \n",
    "    def __iter__(self):\n",
    "        return mera_iterator(self)\n",
    "# iterator\n",
    "class mera_iterator:\n",
    "    \n",
    "    def __init__(self,iterable_obj):\n",
    "        self.iterable = iterable_obj\n",
    "    \n",
    "    def __iter__(self):\n",
    "        return self\n",
    "    \n",
    "    def __next__(self):\n",
    "        \n",
    "        if self.iterable.start >= self.iterable.end:\n",
    "            raise StopIteration\n",
    "        \n",
    "        current = self.iterable.start\n",
    "        self.iterable.start+=1\n",
    "        return current"
   ]
  },
  {
   "cell_type": "code",
   "execution_count": 9,
   "id": "6c4584d0",
   "metadata": {},
   "outputs": [],
   "source": [
    "def mera_range(start,end):\n",
    "    \n",
    "    for i in range(start,end):\n",
    "        yield i"
   ]
  },
  {
   "cell_type": "markdown",
   "id": "3ade0327",
   "metadata": {},
   "source": [
    "2. Memory Efficient"
   ]
  },
  {
   "cell_type": "code",
   "execution_count": 10,
   "id": "7aa42501",
   "metadata": {},
   "outputs": [
    {
     "name": "stdout",
     "output_type": "stream",
     "text": [
      "Size of L in memory 800984\n",
      "Size of gen in memory 200\n"
     ]
    }
   ],
   "source": [
    "L = [x for x in range(100000)]\n",
    "gen = (x for x in range(100000))\n",
    "\n",
    "import sys\n",
    "\n",
    "print('Size of L in memory',sys.getsizeof(L))\n",
    "print('Size of gen in memory',sys.getsizeof(gen))"
   ]
  },
  {
   "cell_type": "markdown",
   "id": "8a6ae1fb",
   "metadata": {},
   "source": [
    "3. Representing Infinite Streams"
   ]
  },
  {
   "cell_type": "code",
   "execution_count": 11,
   "id": "470454aa",
   "metadata": {},
   "outputs": [
    {
     "data": {
      "text/plain": [
       "0"
      ]
     },
     "execution_count": 11,
     "metadata": {},
     "output_type": "execute_result"
    }
   ],
   "source": [
    "def all_even():\n",
    "    n = 0\n",
    "    while True:\n",
    "        yield n\n",
    "        n += 2\n",
    "        \n",
    "even_num_gen = all_even()\n",
    "\n",
    "next(even_num_gen)\n",
    "# next(even_num_gen)"
   ]
  },
  {
   "cell_type": "markdown",
   "id": "289274cc",
   "metadata": {},
   "source": [
    "4. Chaining Generators"
   ]
  },
  {
   "cell_type": "code",
   "execution_count": 12,
   "id": "bc52560e",
   "metadata": {},
   "outputs": [
    {
     "name": "stdout",
     "output_type": "stream",
     "text": [
      "4895\n"
     ]
    }
   ],
   "source": [
    "def fibonacci_numbers(nums):\n",
    "    x, y = 0, 1\n",
    "    for _ in range(nums):\n",
    "        x, y = y, x+y\n",
    "        yield x\n",
    "\n",
    "def square(nums):\n",
    "    for num in nums:\n",
    "        yield num**2\n",
    "\n",
    "print(sum(square(fibonacci_numbers(10))))"
   ]
  },
  {
   "cell_type": "code",
   "execution_count": 14,
   "id": "3b9d1521",
   "metadata": {},
   "outputs": [
    {
     "data": {
      "text/plain": [
       "['__add__',\n",
       " '__class__',\n",
       " '__class_getitem__',\n",
       " '__contains__',\n",
       " '__delattr__',\n",
       " '__dir__',\n",
       " '__doc__',\n",
       " '__eq__',\n",
       " '__format__',\n",
       " '__ge__',\n",
       " '__getattribute__',\n",
       " '__getitem__',\n",
       " '__getnewargs__',\n",
       " '__getstate__',\n",
       " '__gt__',\n",
       " '__hash__',\n",
       " '__init__',\n",
       " '__init_subclass__',\n",
       " '__iter__',\n",
       " '__le__',\n",
       " '__len__',\n",
       " '__lt__',\n",
       " '__mul__',\n",
       " '__ne__',\n",
       " '__new__',\n",
       " '__reduce__',\n",
       " '__reduce_ex__',\n",
       " '__repr__',\n",
       " '__rmul__',\n",
       " '__setattr__',\n",
       " '__sizeof__',\n",
       " '__str__',\n",
       " '__subclasshook__',\n",
       " 'count',\n",
       " 'index']"
      ]
     },
     "execution_count": 14,
     "metadata": {},
     "output_type": "execute_result"
    }
   ],
   "source": [
    "l = [1,2,3]\n",
    "\n",
    "dir(l)\n",
    "\n",
    "t = (1,2,3)\n",
    "\n",
    "dir(t)"
   ]
  },
  {
   "cell_type": "code",
   "execution_count": null,
   "id": "3523a5eb",
   "metadata": {},
   "outputs": [],
   "source": []
  }
 ],
 "metadata": {
  "kernelspec": {
   "display_name": "Python 3 (ipykernel)",
   "language": "python",
   "name": "python3"
  },
  "language_info": {
   "codemirror_mode": {
    "name": "ipython",
    "version": 3
   },
   "file_extension": ".py",
   "mimetype": "text/x-python",
   "name": "python",
   "nbconvert_exporter": "python",
   "pygments_lexer": "ipython3",
   "version": "3.11.4"
  }
 },
 "nbformat": 4,
 "nbformat_minor": 5
}
